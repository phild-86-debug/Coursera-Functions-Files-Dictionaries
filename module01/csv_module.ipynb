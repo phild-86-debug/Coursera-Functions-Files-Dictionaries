{
 "cells": [
  {
   "cell_type": "markdown",
   "id": "e1841bb3-eb13-41c4-9847-73c0d1e1d8ce",
   "metadata": {},
   "source": [
    "# csv_module"
   ]
  },
  {
   "cell_type": "markdown",
   "id": "7d18a66d-b114-465e-8f88-8221da997b5b",
   "metadata": {},
   "source": [
    "## Reading with the csv file"
   ]
  },
  {
   "cell_type": "code",
   "execution_count": 35,
   "id": "8890cc69-3554-488e-a204-af22366a9a02",
   "metadata": {},
   "outputs": [],
   "source": [
    "import csv"
   ]
  },
  {
   "cell_type": "code",
   "execution_count": null,
   "id": "461b52d0-619d-4c0b-8c85-b47cccbf845c",
   "metadata": {},
   "outputs": [],
   "source": [
    "fileconnection =  open(\"olympics.csv\", \"r\")\n",
    "reader = csv.reader(fileconnection)\n",
    "rows = list(reader)\n",
    "print(len(rows))\n",
    "headers = rows[0]\n",
    "# print(rows)\n",
    "# headers is already a list; csv.reader handled parsing of comma separated values \n",
    "print(type(headers))\n",
    "print('\\n')\n",
    "\n",
    "print(headers)\n",
    "\n",
    "for row_vals in rows[1:]:\n",
    "    # each row is already a list, not a string\n",
    "    if row_vals[5] != \"NA\":\n",
    "        print(f\"{row_vals[0]}: {row_vals[4]}: {row_vals[5]}\")\n",
    "        "
   ]
  },
  {
   "cell_type": "markdown",
   "id": "24656646-be73-440f-af04-6746fe3f2590",
   "metadata": {},
   "source": [
    "### Better version using csv module and the with function"
   ]
  },
  {
   "cell_type": "code",
   "execution_count": null,
   "id": "70f2580f-f141-4ad2-81ae-d71219af2ab7",
   "metadata": {},
   "outputs": [],
   "source": [
    "import csv\n",
    "with open(\"olympics.csv\", \"r\") as f:\n",
    "    reader = csv.reader(f)\n",
    "    \n",
    "    headers = next(reader)   # ues next to get first row\n",
    "    print(headers)\n",
    "    for row in reader: # iterate throug remaining rows\n",
    "        if row[5] != \"NA\":\n",
    "            print(f\"{row[0]}: {row[4]}; {row[5]}\")\n",
    "# close is handled automatically when we use the with block\n",
    "\n"
   ]
  },
  {
   "cell_type": "markdown",
   "id": "69d05634-6f0d-49d6-8923-1a4b3489636f",
   "metadata": {},
   "source": [
    "## Writing .csv files with the csv module\n"
   ]
  },
  {
   "cell_type": "code",
   "execution_count": 41,
   "id": "de6a01a5-265b-4846-94ec-338d06b6d80b",
   "metadata": {},
   "outputs": [
    {
     "name": "stdout",
     "output_type": "stream",
     "text": [
      "('john Aalberg', 31, 'Cross Country Skiing, 15KM')\n",
      "('Minna Maarit Aalto', 30, 'Sailing')\n",
      "('Win Valdemar Aaltonen', 54, 'Art Competitions')\n",
      "('Wakako Abe', 18, 'Cycling')\n"
     ]
    }
   ],
   "source": [
    "olympians = [(\"john Aalberg\", 31, \"Cross Country Skiing, 15KM\"),\n",
    "             (\"Minna Maarit Aalto\", 30, \"Sailing\"),\n",
    "             (\"Win Valdemar Aaltonen\", 54, \"Art Competitions\"),\n",
    "             (\"Wakako Abe\", 18, \"Cycling\")]\n",
    "\n",
    "for olympian in olympians:\n",
    "    print(olympian)\n",
    "\n",
    "outfile = open(\"reduced_olympics_2.csv\", \"w\")\n",
    "\n",
    "writer = csv.writer(outfile)\n",
    "# .writerow expects a list, not a comma-separated string; and no  need to write '\\n'\n",
    "writer.writerow(['Name', 'Age', 'Sport'])\n",
    "\n",
    "for olympian in olympians:\n",
    "    # especially easy to write a row if we already have it as a list of values\n",
    "    writer.writerow(olympian)\n",
    "outfile.close()"
   ]
  }
 ],
 "metadata": {
  "kernelspec": {
   "display_name": "Python 3 (ipykernel)",
   "language": "python",
   "name": "python3"
  },
  "language_info": {
   "codemirror_mode": {
    "name": "ipython",
    "version": 3
   },
   "file_extension": ".py",
   "mimetype": "text/x-python",
   "name": "python",
   "nbconvert_exporter": "python",
   "pygments_lexer": "ipython3",
   "version": "3.12.4"
  }
 },
 "nbformat": 4,
 "nbformat_minor": 5
}
