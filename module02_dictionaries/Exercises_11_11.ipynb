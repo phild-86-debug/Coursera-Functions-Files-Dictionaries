{
 "cells": [
  {
   "cell_type": "markdown",
   "id": "68c94792-aae5-4330-9e70-1cb5ad3bb719",
   "metadata": {},
   "source": [
    "# Dictionary Exercises"
   ]
  },
  {
   "cell_type": "markdown",
   "id": "36f2b20c-3d90-4cb9-a9d7-44028a9eab7d",
   "metadata": {},
   "source": [
    "### English to Pirate Translation"
   ]
  },
  {
   "cell_type": "code",
   "execution_count": 13,
   "id": "f85f493c-1ddd-4751-9e86-93f0231123f2",
   "metadata": {},
   "outputs": [
    {
     "name": "stdin",
     "output_type": "stream",
     "text": [
      "Enter a string in english to be translated:  hello\n"
     ]
    },
    {
     "name": "stdout",
     "output_type": "stream",
     "text": [
      "avast\n"
     ]
    }
   ],
   "source": [
    "translation = {\n",
    "    'sir': 'matey',\n",
    "    'restaurant':  'galley',\n",
    "    'your': 'yer',\n",
    "    'excuse':'arr',\n",
    "    'students':'swabbies',\n",
    "    'are': 'be',\n",
    "    'lawyer': 'foul blaggart',\n",
    "    'the': \"th'\",\n",
    "    'restroom': 'head',\n",
    "    'my': 'me',\n",
    "    'hello': 'avast',\n",
    "    'is': 'be',\n",
    "    'man': 'matey', \n",
    "    'hotel': 'fleabag inn',\n",
    "    'boy': 'matey',\n",
    "    'madam': 'proud beauty',\n",
    "    'professor': 'foul blaggart'\n",
    "  \n",
    "}\n",
    "\n",
    "str_input = input(\"Enter a string in english to be translated: \")\n",
    "input_split = str_input.split()\n",
    "for num in range(len(input_split)):\n",
    "    if input_split[num] in translation:\n",
    "        input_split[num] = translation[input_split[num]]\n",
    "            \n",
    "output_str = \" \".join(input_split)\n",
    "print(output_str)"
   ]
  },
  {
   "cell_type": "code",
   "execution_count": 16,
   "id": "69d5b2b9-4dcb-42f4-817d-b7da2606d30d",
   "metadata": {},
   "outputs": [
    {
     "name": "stdout",
     "output_type": "stream",
     "text": [
      "success\n"
     ]
    }
   ],
   "source": [
    "d = { 'work': 'success', 'success': 'failure', 'failure': 'money', 'time': 'work', 'industry': 'time'}\n",
    "print(d[d['time']])"
   ]
  },
  {
   "cell_type": "markdown",
   "id": "a36ddef2-981b-4194-9934-a56535df248a",
   "metadata": {},
   "source": [
    "### Most used seven letter words"
   ]
  },
  {
   "cell_type": "code",
   "execution_count": 48,
   "id": "41741494-a102-46b4-b2c9-1835fbeeff58",
   "metadata": {},
   "outputs": [
    {
     "name": "stdout",
     "output_type": "stream",
     "text": [
      "65\n",
      "anyone.\n"
     ]
    }
   ],
   "source": [
    "# Write a program that finds the most used 7 letter word in scarlet3.txt\n",
    "# using scarlet.txt as my example file\n",
    "f = open('scarlet.txt', 'r')\n",
    "dict_words = {}\n",
    "# task1 get all words and word counts into a dictionary\n",
    "# task2 get only seven letter words into a dictionary\n",
    "lines = f.readlines()\n",
    "for lin in lines:\n",
    "    for word in lin.split(' '):\n",
    "        if len(word) == 7:\n",
    "            dict_words[word] = dict_words.get(word,0) + 1\n",
    "\n",
    "dict_keys = list(dict_words.keys())\n",
    "max_value = dict_words[dict_keys[0]]\n",
    "print(max_value)\n",
    "for key in dict_words:\n",
    "    max_key = key\n",
    "    if dict_words[key] > max_value:\n",
    "        max_value = dict_words[key]\n",
    "        max_key = key\n",
    "print(max_key)\n",
    "# for key, value in dict_words.items():\n",
    "#     print(key, \":\", value)\n",
    "\n",
    "    \n",
    "\n",
    "    \n",
    "\n",
    "f.close()\n"
   ]
  },
  {
   "cell_type": "markdown",
   "id": "88efc92f-0f5a-4890-925c-34892c590763",
   "metadata": {
    "jp-MarkdownHeadingCollapsed": true
   },
   "source": [
    "### Reverses key value pairs:"
   ]
  },
  {
   "cell_type": "code",
   "execution_count": 50,
   "id": "0209b4d1-892a-4197-8901-1228d4b56eb2",
   "metadata": {},
   "outputs": [
    {
     "name": "stdout",
     "output_type": "stream",
     "text": [
      "{2: 'a', 3: 'b', 1: 'c'}\n"
     ]
    }
   ],
   "source": [
    "# Reverses key value pairs\n",
    "# reverse key-value pairs\n",
    "d =  {'a': 2, 'b': 3, 'c': 1}\n",
    "e = {}\n",
    "for c in d:\n",
    "    e[d[c]] = c\n",
    "print (e)"
   ]
  },
  {
   "cell_type": "markdown",
   "id": "79437919-f2d2-416f-a6b9-90539d184d68",
   "metadata": {},
   "source": [
    "### Letters of alphabet in sorted order ignoring case."
   ]
  },
  {
   "cell_type": "code",
   "execution_count": 64,
   "id": "571a03b8-0ad3-4739-bfc5-66639899ba6a",
   "metadata": {},
   "outputs": [
    {
     "name": "stdin",
     "output_type": "stream",
     "text": [
      "Enter a string:  hello\n"
     ]
    },
    {
     "name": "stdout",
     "output_type": "stream",
     "text": [
      "hello\n",
      "e: 1\n",
      "h: 1\n",
      "l: 2\n",
      "o: 1\n"
     ]
    }
   ],
   "source": [
    "input_str = input(\"Enter a string: \")\n",
    "dict_letters = {}\n",
    "input_str = input_str.lower()\n",
    "print(input_str)\n",
    "for char in input_str.strip():\n",
    "    dict_letters[char] = dict_letters.get(char, 0) +1\n",
    "for key in sorted(dict_letters):\n",
    "    print(f\"{key}: {dict_letters[key]}\")\n",
    "    \n",
    "    "
   ]
  },
  {
   "cell_type": "code",
   "execution_count": 68,
   "id": "5550eadf-9407-46ab-a10c-6a380bb6d2e2",
   "metadata": {},
   "outputs": [
    {
     "data": {
      "text/plain": [
       "4"
      ]
     },
     "execution_count": 68,
     "metadata": {},
     "output_type": "execute_result"
    }
   ],
   "source": [
    "def foo(s):\n",
    "        alphabet = 'abcdefghijklmnopqrstuvwxyz'\n",
    "        values = {}\n",
    "        for i in range(len(alphabet)):\n",
    "                values[alphabet[i]] = i+1;\n",
    "        answer  = 0\n",
    "        for c in s:\n",
    "                answer += values[c]\n",
    "        return answer\n",
    "foo('baa')"
   ]
  }
 ],
 "metadata": {
  "kernelspec": {
   "display_name": "Python 3 (ipykernel)",
   "language": "python",
   "name": "python3"
  },
  "language_info": {
   "codemirror_mode": {
    "name": "ipython",
    "version": 3
   },
   "file_extension": ".py",
   "mimetype": "text/x-python",
   "name": "python",
   "nbconvert_exporter": "python",
   "pygments_lexer": "ipython3",
   "version": "3.12.4"
  }
 },
 "nbformat": 4,
 "nbformat_minor": 5
}
