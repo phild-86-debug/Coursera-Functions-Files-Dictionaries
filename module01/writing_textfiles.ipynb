{
 "cells": [
  {
   "cell_type": "markdown",
   "id": "696aa87c-9e6d-404e-93c1-d37f0b72624e",
   "metadata": {},
   "source": [
    "# Writing text files"
   ]
  },
  {
   "cell_type": "code",
   "execution_count": 1,
   "id": "3e3c1a27-e3ad-4750-8043-a94d98892917",
   "metadata": {},
   "outputs": [
    {
     "name": "stdout",
     "output_type": "stream",
     "text": [
      "0\n",
      "1\n",
      "4\n",
      "9\n",
      "16\n"
     ]
    }
   ],
   "source": [
    "file_obj =open(\"squares.txt\", \"w\")\n",
    "for number in range(13):\n",
    "    square = number * number\n",
    "    file_obj.write(str(square))\n",
    "    file_obj.write(\"\\n\")\n",
    "    \n",
    "file_obj.close()\n",
    "# includes the new line character in character count\n",
    "new_file_obj = open(\"squares.txt\", \"r\")\n",
    "print(new_file_obj.read()[:10])\n",
    "new_file_obj.close()\n",
    "\n"
   ]
  },
  {
   "cell_type": "code",
   "execution_count": 12,
   "id": "d12d421b-dc94-4f16-9638-a9b8dbb03074",
   "metadata": {},
   "outputs": [
    {
     "name": "stdout",
     "output_type": "stream",
     "text": [
      "0\n",
      "1\n",
      "8\n",
      "27\n",
      "64\n",
      "125\n",
      "216\n",
      "343\n",
      "512\n",
      "729\n",
      "1000\n"
     ]
    }
   ],
   "source": [
    "\n",
    "\n"
   ]
  }
 ],
 "metadata": {
  "kernelspec": {
   "display_name": "Python 3 (ipykernel)",
   "language": "python",
   "name": "python3"
  },
  "language_info": {
   "codemirror_mode": {
    "name": "ipython",
    "version": 3
   },
   "file_extension": ".py",
   "mimetype": "text/x-python",
   "name": "python",
   "nbconvert_exporter": "python",
   "pygments_lexer": "ipython3",
   "version": "3.12.4"
  }
 },
 "nbformat": 4,
 "nbformat_minor": 5
}
