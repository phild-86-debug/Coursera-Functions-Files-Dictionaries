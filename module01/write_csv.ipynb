{
 "cells": [
  {
   "cell_type": "markdown",
   "id": "a113fef1-9739-4d83-be86-69a4c88a2b1b",
   "metadata": {},
   "source": [
    "# Writing to a csv file"
   ]
  },
  {
   "cell_type": "code",
   "execution_count": null,
   "id": "f1d79320-70c4-4e80-a5dc-13ea41410395",
   "metadata": {},
   "outputs": [],
   "source": [
    "# Multiples of 12"
   ]
  },
  {
   "cell_type": "code",
   "execution_count": null,
   "id": "715d2a66-db61-44f9-9339-c69387763118",
   "metadata": {},
   "outputs": [],
   "source": [
    "n = [0] * 12"
   ]
  },
  {
   "cell_type": "code",
   "execution_count": null,
   "id": "eb9069ac-ef4a-4af4-8c5c-239ad6773825",
   "metadata": {},
   "outputs": [],
   "source": []
  },
  {
   "cell_type": "code",
   "execution_count": null,
   "id": "0be1138e-0c8a-40ca-ad91-033685f579ec",
   "metadata": {},
   "outputs": [],
   "source": []
  },
  {
   "cell_type": "code",
   "execution_count": null,
   "id": "118258e7-4ecb-4eff-ba35-e92456891d38",
   "metadata": {},
   "outputs": [],
   "source": [
    "for i in range(1, 13):\n",
    "    n[i-1] = i * 12\n",
    "outfile = open(\"Multiples12.txt\", \"w\")\n",
    "for j in range(0, len(n)):\n",
    "    outfile.write(str(j+1) + ',' + str(n[j]))\n",
    "    outfile.write(\"\\n\")\n",
    "outfile.close()"
   ]
  },
  {
   "cell_type": "code",
   "execution_count": null,
   "id": "37b5df72-3e11-415f-8475-b2ec8be3b946",
   "metadata": {},
   "outputs": [],
   "source": [
    "infile = open('Multiples12.txt','r')\n",
    "lines = infile.readlines()\n",
    "for lin in lines:\n",
    "    print(\"Type of lin is: \" + str(type(lin)))\n",
    "    \n",
    "    print(lin.strip())\n",
    "    vals = lin.strip().split(',')\n",
    "    print(\"Type of vals is: \"  + str(type(vals)))\n",
    "    print(vals)"
   ]
  },
  {
   "cell_type": "code",
   "execution_count": 17,
   "id": "0953ab6c-98fb-4408-afa1-832afeacebe7",
   "metadata": {},
   "outputs": [],
   "source": [
    "# More complicated example-  reduced_olympics.csv\n",
    "olympians = [(\"John Aalberg\", 31, \"Cross Country Skiing\"),\n",
    "             (\"Minna Maarit Aalto\", 30, \"Sailing\"),\n",
    "             (\"Win Valdemar Aaltonen\", 54, \"Art Competitions\"),\n",
    "             (\"Wakako Abe\", 18, \"Cycling\")]\n",
    "\n",
    "outfile = open(\"reduced_olympics.csv\", \"w\")\n",
    "# output the header row\n",
    "outfile.write('Name,Age,Sport')\n",
    "outfile.write('\\n')\n",
    "# output each of the rows:\n",
    "for olympian in olympians:\n",
    "    row_string = '{},{},{}'.format(olympian[0], olympian[1], olympian[2])\n",
    "    outfile.write(row_string)\n",
    "    outfile.write('\\n')\n",
    "outfile.close()"
   ]
  },
  {
   "cell_type": "code",
   "execution_count": 15,
   "id": "ac63c1b1-dfb1-4f93-ab91-5a6be1551a3a",
   "metadata": {},
   "outputs": [
    {
     "name": "stdout",
     "output_type": "stream",
     "text": [
      "['Name', 'Age', 'Sport']\n",
      "John Aalberg,31,Cross Country Skiing\n",
      "Minna Maarit Aalto,30,Sailing\n",
      "Win Valdemar Aaltonen,54,Art Competitions\n",
      "Wakako Abe,18,Cycling\n"
     ]
    }
   ],
   "source": [
    "inputfile = open('reduced_olympics.csv')\n",
    "lines = inputfile.readlines()\n",
    "header = lines[0]\n",
    "field_names = header.strip().split(',')\n",
    "print(field_names)\n",
    "\n",
    "for row in lines[1:]:\n",
    "    print(row.strip())\n",
    "    # vals = row.strip().split(',')\n",
    "    # print(vals)\n",
    "inputfile.close()"
   ]
  }
 ],
 "metadata": {
  "kernelspec": {
   "display_name": "Python 3 (ipykernel)",
   "language": "python",
   "name": "python3"
  },
  "language_info": {
   "codemirror_mode": {
    "name": "ipython",
    "version": 3
   },
   "file_extension": ".py",
   "mimetype": "text/x-python",
   "name": "python",
   "nbconvert_exporter": "python",
   "pygments_lexer": "ipython3",
   "version": "3.12.4"
  }
 },
 "nbformat": 4,
 "nbformat_minor": 5
}
