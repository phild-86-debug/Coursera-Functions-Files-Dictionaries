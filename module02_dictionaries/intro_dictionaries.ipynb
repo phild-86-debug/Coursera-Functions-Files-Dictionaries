{
 "cells": [
  {
   "cell_type": "markdown",
   "id": "2756bac5-b55a-4702-b386-d90153d6dd25",
   "metadata": {},
   "source": [
    "# Introduction to Dictionaries"
   ]
  },
  {
   "cell_type": "markdown",
   "id": "318eeb2d-34b7-4464-9488-50216cac40f0",
   "metadata": {},
   "source": [
    "## Facts\n",
    "1. Dictionaries are mutable\n",
    "2. len function can be used on dictionaries.\n",
    "\n"
   ]
  },
  {
   "cell_type": "markdown",
   "id": "12b5cecf-9611-4127-8584-920520976edc",
   "metadata": {},
   "source": [
    "### Python documentation:\n",
    "https://docs.python.org/3/library/stdtypes.html#mapping-types-dict\n"
   ]
  },
  {
   "cell_type": "markdown",
   "id": "5125ff66-cdf6-4fc0-bdf7-01c96aea4ec8",
   "metadata": {},
   "source": [
    "#### Dictionary Methods:\n",
    "Keys -   Returns a viewe of the keys in a dictionary<BR>\n",
    "values-  Returns a view of the values in the dictionary<BR>\n",
    "items-   Returns a view of the key -value pairs in the dictionary<BR>\n",
    "get-     Returns the value associated with the key, none otherwise<BR>\n",
    "get-      key, alt.  Returns the value associated with key; alt otherwise<BR>\n",
    "\n"
   ]
  },
  {
   "cell_type": "code",
   "execution_count": 3,
   "id": "fe0a48e2-4b9e-4ff3-9e17-8462eb165586",
   "metadata": {},
   "outputs": [
    {
     "name": "stdout",
     "output_type": "stream",
     "text": [
      "{'one': 'uno', 'two': 'dos', 'three': 'tres'}\n"
     ]
    }
   ],
   "source": [
    "# example\n",
    "eng2sp = {}\n",
    "eng2sp['one'] = 'uno'\n",
    "eng2sp['two'] = 'dos'\n",
    "eng2sp['three'] =  'tres'\n",
    "print(eng2sp)"
   ]
  },
  {
   "cell_type": "code",
   "execution_count": 4,
   "id": "d4a00e96-334c-4917-ae1b-1f751a00bb48",
   "metadata": {},
   "outputs": [
    {
     "name": "stdout",
     "output_type": "stream",
     "text": [
      "dos\n",
      "uno\n"
     ]
    }
   ],
   "source": [
    "# Looking up values:\n",
    "value = eng2sp['two']\n",
    "print(value)\n",
    "print(eng2sp['one'])"
   ]
  },
  {
   "cell_type": "code",
   "execution_count": 6,
   "id": "8c92bfc4-5339-4375-a3d3-6d4f2ac185aa",
   "metadata": {},
   "outputs": [
    {
     "name": "stdout",
     "output_type": "stream",
     "text": [
      "{'apples': 430, 'bananas': 312, 'oranges': 525}\n"
     ]
    }
   ],
   "source": [
    "# using the del statement\n",
    "inventory = {'apples': 430, 'bananas': 312, 'oranges': 525, 'pears': 217}\n",
    "del inventory ['pears']\n",
    "print(inventory)"
   ]
  },
  {
   "cell_type": "markdown",
   "id": "aabb0c83-ddc0-4d9c-99ac-8fb31a4f1f04",
   "metadata": {},
   "source": [
    "#### Iterating over a Dictionary:  Three methods"
   ]
  },
  {
   "cell_type": "markdown",
   "id": "9945f066-c15b-4dc0-be7e-e3eac72fc94a",
   "metadata": {},
   "source": [
    "##### Method 1\n",
    "Iterating over the keys of a dictionary\n",
    "\n"
   ]
  },
  {
   "cell_type": "code",
   "execution_count": null,
   "id": "2c4c3b35-e942-492f-bd7a-8ec82d139785",
   "metadata": {},
   "outputs": [],
   "source": [
    "inventory = {'apples': 430, 'bananas': 312, 'pears': 217, 'oranges': 525}\n",
    "\n",
    "for akey in inventory.keys():     # the order in which we get the keys is not defined\n",
    "    print(\"Got key\", akey, \"which maps to value\", inventory[akey])\n",
    "\n",
    "ks = list(inventory.keys())       # Make a list of all of the keys\n",
    "print(ks)\n",
    "print(ks[0])                      # Display the first key\n",
    "\n",
    "# Sorted- To sort the keys:\n",
    "# for akey in sorted(inventory.keys()):\n",
    "\n",
    "# Iterating over a dictionary implicityly implies iterting over its keys:\n",
    "inventory = {'apples': 430, 'bananas': 312, 'oranges': 525, 'pears': 217}\n",
    "\n",
    "for k in inventory:\n",
    "    print(\"Got key\", k)"
   ]
  },
  {
   "cell_type": "markdown",
   "id": "10a5c048-58c0-47f5-a9f2-aca57e4bbbe2",
   "metadata": {},
   "source": [
    "##### Method 2 : Values method of iterating over a dictionary\n",
    "Returns a collection of the values in a dictionary"
   ]
  },
  {
   "cell_type": "code",
   "execution_count": 11,
   "id": "19033449-126c-4231-8d55-5c1ee7ebaf53",
   "metadata": {},
   "outputs": [
    {
     "name": "stdout",
     "output_type": "stream",
     "text": [
      "[430, 312, 525, 217]\n",
      "Got 430\n",
      "Got 312\n",
      "Got 525\n",
      "Got 217\n"
     ]
    }
   ],
   "source": [
    "inventory = {'apples': 430, 'bananas': 312, 'oranges': 525, 'pears': 217}\n",
    "\n",
    "print(list(inventory.values()))\n",
    "\n",
    "for v in inventory.values():\n",
    "    print(\"Got\", v)"
   ]
  },
  {
   "cell_type": "code",
   "execution_count": 13,
   "id": "f9110488-729a-4495-a5d3-faea4f1ab78a",
   "metadata": {},
   "outputs": [
    {
     "name": "stdout",
     "output_type": "stream",
     "text": [
      "[('apples', 430), ('bananas', 312), ('oranges', 525), ('pears', 217)]\n",
      "Got apples that maps to 430\n",
      "Got bananas that maps to 312\n",
      "Got oranges that maps to 525\n",
      "Got pears that maps to 217\n"
     ]
    }
   ],
   "source": [
    "##### Method 3: items method of iterating over a dictionary\n",
    "inventory = {'apples': 430, 'bananas': 312, 'oranges': 525, 'pears': 217}\n",
    "\n",
    "print(list(inventory.items()))\n",
    "\n",
    "for k, v in inventory.items():\n",
    "    print(\"Got\", k, \"that maps to\", v)"
   ]
  },
  {
   "cell_type": "markdown",
   "id": "b7a49e8a-7b27-41e8-9c58-2ce9b2a0330a",
   "metadata": {},
   "source": [
    "#### Safely returning values of a dictionary\n"
   ]
  },
  {
   "cell_type": "code",
   "execution_count": 14,
   "id": "615001ee-08fb-4c50-9197-76201611f433",
   "metadata": {},
   "outputs": [],
   "source": [
    "# Teo methods to safely return values of a dictionary\n",
    "# Check for inclusion using in \n",
    "# get method"
   ]
  },
  {
   "cell_type": "markdown",
   "id": "ede1823a-7f04-4ee3-9a8f-da10ba3f6388",
   "metadata": {},
   "source": [
    "##### Using the get method:\n",
    "> The second approach is to use the get method.\n",
    "get retrieves the value associated with a key, similar to the [] operator. \n",
    "The important difference is that get will not cause a runtime error if the key is not present.\n",
    "It will instead return the value None. There exists a variation of get that allows a second parameter that serves as an alternative return value\n",
    "in the case where the key is not present. This can be seen in the final example below.\n",
    "In this case, since “cherries” is not a key, get returns 0 (instead of None)."
   ]
  },
  {
   "cell_type": "code",
   "execution_count": 16,
   "id": "2d955ea3-eaee-441a-b5bb-e0ade03d542c",
   "metadata": {},
   "outputs": [
    {
     "name": "stdout",
     "output_type": "stream",
     "text": [
      "430\n",
      "None\n",
      "0\n"
     ]
    }
   ],
   "source": [
    "# using the get method:\n",
    "inventory = {'apples': 430, 'bananas': 312, 'oranges': 525, 'pears': 217}\n",
    "\n",
    "print(inventory.get(\"apples\"))\n",
    "print(inventory.get(\"cherries\"))\n",
    "\n",
    "print(inventory.get(\"cherries\",0))"
   ]
  },
  {
   "cell_type": "code",
   "execution_count": 19,
   "id": "f6b9ce32-1bbe-49a5-8ebd-bfa8da7c82a2",
   "metadata": {},
   "outputs": [
    {
     "name": "stdout",
     "output_type": "stream",
     "text": [
      "['Shooting', 'Fencing', 'Judo', 'Swimming', 'Diving']\n"
     ]
    }
   ],
   "source": [
    "# Examples:\n",
    "# Get a list of keys:\n",
    "medal_events = {'Shooting': 7, 'Fencing': 4, 'Judo': 2, 'Swimming': 3, 'Diving': 2}\n",
    "events= list(medal_events.keys())\n",
    "print(events)\n"
   ]
  },
  {
   "cell_type": "markdown",
   "id": "4d4bfb75-d1b5-401d-b11f-b345ee0fb04a",
   "metadata": {},
   "source": [
    "##### Alias and  Copy\n",
    "\r\n",
    "> \r\n",
    "If you want to modify a dictionary and keep a copy of the original, use the dictionary copy method. Since acopy is a copy of the dictionary, changes to it will not effect the original.\n"
   ]
  },
  {
   "cell_type": "code",
   "execution_count": 22,
   "id": "99dfbfb3-9e0d-416f-81e2-efec47ec36f7",
   "metadata": {},
   "outputs": [
    {
     "name": "stdout",
     "output_type": "stream",
     "text": [
      "True\n",
      "left\n"
     ]
    }
   ],
   "source": [
    "opposites = {'up': 'down', 'right': 'wrong', 'true': 'false'}\n",
    "alias = opposites\n",
    "\n",
    "print(alias is opposites)\n",
    "\n",
    "alias['right'] = 'left'\n",
    "print(opposites['right'])\n",
    "# Uses the copy method to avoid aliasing\n",
    "acopy = opposites.copy()\n",
    "acopy['right'] = 'left'    # does not change opposites"
   ]
  }
 ],
 "metadata": {
  "kernelspec": {
   "display_name": "Python 3 (ipykernel)",
   "language": "python",
   "name": "python3"
  },
  "language_info": {
   "codemirror_mode": {
    "name": "ipython",
    "version": 3
   },
   "file_extension": ".py",
   "mimetype": "text/x-python",
   "name": "python",
   "nbconvert_exporter": "python",
   "pygments_lexer": "ipython3",
   "version": "3.12.4"
  }
 },
 "nbformat": 4,
 "nbformat_minor": 5
}
