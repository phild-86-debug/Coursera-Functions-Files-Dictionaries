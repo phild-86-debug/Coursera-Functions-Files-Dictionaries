{
 "cells": [
  {
   "cell_type": "markdown",
   "id": "40d1db69-6ca1-4d79-91c9-719d5076d22b",
   "metadata": {},
   "source": [
    "# 12.8  A function that accumulates\n",
    "Introduces mylen function"
   ]
  },
  {
   "cell_type": "code",
   "execution_count": 2,
   "id": "5521921d-6e5a-4fd1-afb4-c26aa6728382",
   "metadata": {},
   "outputs": [],
   "source": [
    "def mylen(seq):\n",
    "    ''' Accepts a sequence and returns the len of the sequence'''\n",
    "    counter = 0\n",
    "    for item in seq:\n",
    "        counter += 1\n",
    "    return counter"
   ]
  },
  {
   "cell_type": "code",
   "execution_count": 6,
   "id": "dc606dd0-6653-4b2e-af17-f2f04bd1589c",
   "metadata": {},
   "outputs": [
    {
     "name": "stdout",
     "output_type": "stream",
     "text": [
      "5\n",
      "5\n",
      "6\n",
      "0\n"
     ]
    }
   ],
   "source": [
    "print(mylen(\"hello\"))\n",
    "print(mylen([\"hello\", \"how\", 'are', 'you', 'today']))\n",
    "print(mylen((1, 2, 3, 4, 5, 6)))\n",
    "print(mylen(()))\n"
   ]
  }
 ],
 "metadata": {
  "kernelspec": {
   "display_name": "Python 3 (ipykernel)",
   "language": "python",
   "name": "python3"
  },
  "language_info": {
   "codemirror_mode": {
    "name": "ipython",
    "version": 3
   },
   "file_extension": ".py",
   "mimetype": "text/x-python",
   "name": "python",
   "nbconvert_exporter": "python",
   "pygments_lexer": "ipython3",
   "version": "3.12.4"
  }
 },
 "nbformat": 4,
 "nbformat_minor": 5
}
