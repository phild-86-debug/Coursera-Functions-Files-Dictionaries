{
 "cells": [
  {
   "cell_type": "markdown",
   "id": "63168ad3-9e72-4ac7-a31f-6e50c7aff125",
   "metadata": {},
   "source": [
    "# Assert\n",
    "Checking assumptions about data types"
   ]
  },
  {
   "cell_type": "code",
   "execution_count": 3,
   "id": "43627f6f-79c2-4b11-89e9-9c7f16bc0cc8",
   "metadata": {},
   "outputs": [],
   "source": [
    "assert type(9//5) == int\n",
    "assert type(9.0//5) == float"
   ]
  },
  {
   "cell_type": "code",
   "execution_count": null,
   "id": "1e43c38a-e034-42b0-9457-7b7dd261c74d",
   "metadata": {},
   "outputs": [],
   "source": [
    "lst = ['a', 'b', 'c']\n",
    "\n",
    "first_type = type(lst[0])\n",
    "for item in lst:\n",
    "    assert type(item) == first_type\n",
    "\n",
    "lst2 = ['a', 'b', 'c', 17]\n",
    "first_type = type(lst2[0])\n",
    "for item in lst2:\n",
    "    assert type(item) == first_type\n",
    "\n"
   ]
  },
  {
   "cell_type": "code",
   "execution_count": 7,
   "id": "f7064088-d254-4d84-8935-1f092bf9d096",
   "metadata": {},
   "outputs": [
    {
     "ename": "SyntaxError",
     "evalue": "invalid syntax (1300479720.py, line 2)",
     "output_type": "error",
     "traceback": [
      "\u001b[1;36m  Cell \u001b[1;32mIn[7], line 2\u001b[1;36m\u001b[0m\n\u001b[1;33m    a = 4 b = 0 assert b != 0, \"Zero Division Error\"\u001b[0m\n\u001b[1;37m          ^\u001b[0m\n\u001b[1;31mSyntaxError\u001b[0m\u001b[1;31m:\u001b[0m invalid syntax\n"
     ]
    }
   ],
   "source": [
    "## Assert with message\n",
    "a = 4 b = 0 assert b != 0, \"Zero Division Error\""
   ]
  },
  {
   "cell_type": "code",
   "execution_count": 13,
   "id": "7f8864ce-360d-4405-954d-df9b21d18a0b",
   "metadata": {},
   "outputs": [
    {
     "name": "stdout",
     "output_type": "stream",
     "text": [
      "95\n"
     ]
    }
   ],
   "source": [
    "def area_rectangle(w, h):\n",
    "    assert w > 4 and h > 9, \"Wrong proportions\"\n",
    "    return w * h\n",
    "\n",
    "print(area_rectangle(5, 19))"
   ]
  }
 ],
 "metadata": {
  "kernelspec": {
   "display_name": "Python 3 (ipykernel)",
   "language": "python",
   "name": "python3"
  },
  "language_info": {
   "codemirror_mode": {
    "name": "ipython",
    "version": 3
   },
   "file_extension": ".py",
   "mimetype": "text/x-python",
   "name": "python",
   "nbconvert_exporter": "python",
   "pygments_lexer": "ipython3",
   "version": "3.12.4"
  }
 },
 "nbformat": 4,
 "nbformat_minor": 5
}
