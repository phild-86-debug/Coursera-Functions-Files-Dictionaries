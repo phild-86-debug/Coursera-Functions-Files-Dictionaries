{
 "cells": [
  {
   "cell_type": "markdown",
   "id": "405d64f6-c77b-497f-b35b-204004445b4a",
   "metadata": {},
   "source": [
    "# Introduction to the while \n"
   ]
  },
  {
   "cell_type": "code",
   "execution_count": 1,
   "id": "3048adbf-009c-4757-993d-cefc8ffd042d",
   "metadata": {},
   "outputs": [
    {
     "name": "stdout",
     "output_type": "stream",
     "text": [
      "10\n",
      "500500\n"
     ]
    }
   ],
   "source": [
    "def sumTo(aBound):\n",
    "    \"\"\" Return the sum of 1+2+3 ... n \"\"\"\n",
    "\n",
    "\n",
    "    theSum  = 0\n",
    "    aNumber = 1\n",
    "    while aNumber <= aBound:\n",
    "        theSum = theSum + aNumber\n",
    "        aNumber = aNumber + 1\n",
    "    return theSum\n",
    "\n",
    "print(sumTo(4))\n",
    "\n",
    "print(sumTo(1000))"
   ]
  },
  {
   "cell_type": "markdown",
   "id": "21ccfaa8-4179-491c-a9ab-d5ebec5d461c",
   "metadata": {},
   "source": [
    "### Example programs"
   ]
  },
  {
   "cell_type": "code",
   "execution_count": 5,
   "id": "115edb75-72d8-46a0-bc0b-e0509083ef77",
   "metadata": {},
   "outputs": [
    {
     "name": "stdout",
     "output_type": "stream",
     "text": [
      "42\n"
     ]
    }
   ],
   "source": [
    "list1 = [8, 3, 4, 5, 6, 7, 9]\n",
    "\n",
    "accum = 0\n",
    "bound = len(list1)\n",
    "idx = 0\n",
    "while idx < bound:\n",
    "    accum += list1[idx]\n",
    "    idx += 1\n",
    "print(accum)"
   ]
  },
  {
   "cell_type": "markdown",
   "id": "57dac0f9-440d-4a56-a6d1-48ffef7d6ba8",
   "metadata": {},
   "source": [
    "## The Listener Loop"
   ]
  },
  {
   "cell_type": "code",
   "execution_count": 8,
   "id": "26a98c1c-0747-4f95-b441-d7ab8526a4a4",
   "metadata": {},
   "outputs": [
    {
     "name": "stdin",
     "output_type": "stream",
     "text": [
      "Enter a number to be included in the sum:  0\n"
     ]
    },
    {
     "name": "stdout",
     "output_type": "stream",
     "text": [
      "sum is:  0\n"
     ]
    }
   ],
   "source": [
    "sum = 0\n",
    "x = -1\n",
    "while(x != 0):\n",
    "    x = int(input(\"Enter a number to be included in the sum: \"))\n",
    "    sum += x\n",
    "print(\"sum is: \", sum)\n",
    "    "
   ]
  },
  {
   "cell_type": "markdown",
   "id": "0a68736a-b732-408c-bef5-1c83ea5b80d9",
   "metadata": {},
   "source": [
    "#### Sentinel value - signifies the end of the loop\n",
    "<br>\n",
    "Cash register program"
   ]
  },
  {
   "cell_type": "code",
   "execution_count": 22,
   "id": "e3be6720-e878-43ce-b5fc-6b0419fc624f",
   "metadata": {},
   "outputs": [
    {
     "name": "stdin",
     "output_type": "stream",
     "text": [
      "Enter price of item (0 when done):  -1\n"
     ]
    },
    {
     "name": "stdout",
     "output_type": "stream",
     "text": [
      "Error: negative value entered\n",
      "Enter next item please\n"
     ]
    },
    {
     "name": "stdin",
     "output_type": "stream",
     "text": [
      "Enter price of item (0 when done):  -14\n"
     ]
    },
    {
     "name": "stdout",
     "output_type": "stream",
     "text": [
      "Error: negative value entered\n",
      "Enter next item please\n"
     ]
    },
    {
     "name": "stdin",
     "output_type": "stream",
     "text": [
      "Enter price of item (0 when done):  -27\n"
     ]
    },
    {
     "name": "stdout",
     "output_type": "stream",
     "text": [
      "Error: negative value entered\n",
      "Enter next item please\n"
     ]
    },
    {
     "name": "stdin",
     "output_type": "stream",
     "text": [
      "Enter price of item (0 when done):  1\n"
     ]
    },
    {
     "name": "stdout",
     "output_type": "stream",
     "text": [
      "Subtotal: $ 1.0\n"
     ]
    },
    {
     "name": "stdin",
     "output_type": "stream",
     "text": [
      "Enter price of item (0 when done):  1\n"
     ]
    },
    {
     "name": "stdout",
     "output_type": "stream",
     "text": [
      "Subtotal: $ 2.0\n"
     ]
    },
    {
     "name": "stdin",
     "output_type": "stream",
     "text": [
      "Enter price of item (0 when done):  1\n"
     ]
    },
    {
     "name": "stdout",
     "output_type": "stream",
     "text": [
      "Subtotal: $ 3.0\n"
     ]
    },
    {
     "name": "stdin",
     "output_type": "stream",
     "text": [
      "Enter price of item (0 when done):  0\n"
     ]
    },
    {
     "name": "stdout",
     "output_type": "stream",
     "text": [
      "Total items: 3\n",
      "Total $ 3.0\n",
      "Average price per item: $ 1.0\n"
     ]
    }
   ],
   "source": [
    "def checkout():\n",
    "    total = 0\n",
    "    count = 0\n",
    "    moreItems = True\n",
    "    while moreItems:\n",
    "        price = float(input('Enter price of item (0 when done): '))\n",
    "        if price > 0:\n",
    "            count = count + 1\n",
    "            total = total + price\n",
    "            print('Subtotal: $', total)\n",
    "        elif price < 0:\n",
    "            print(\"Error: negative value entered\")\n",
    "            print(\"Enter next item please\")\n",
    "        \n",
    "        else:\n",
    "            moreItems = False\n",
    "    if count == 0:\n",
    "        average = total\n",
    "    else:\n",
    "        average = total / count\n",
    "    print('Total items:', count)\n",
    "    print('Total $', round(total,2))\n",
    "    print('Average price per item: $', round(average,2))\n",
    "\n",
    "checkout()"
   ]
  },
  {
   "cell_type": "code",
   "execution_count": null,
   "id": "9ddebd64-56b3-4fb0-9db2-30da12465bb2",
   "metadata": {},
   "outputs": [],
   "source": []
  }
 ],
 "metadata": {
  "kernelspec": {
   "display_name": "Python 3 (ipykernel)",
   "language": "python",
   "name": "python3"
  },
  "language_info": {
   "codemirror_mode": {
    "name": "ipython",
    "version": 3
   },
   "file_extension": ".py",
   "mimetype": "text/x-python",
   "name": "python",
   "nbconvert_exporter": "python",
   "pygments_lexer": "ipython3",
   "version": "3.13.0"
  }
 },
 "nbformat": 4,
 "nbformat_minor": 5
}
