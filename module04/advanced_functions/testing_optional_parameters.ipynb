{
 "cells": [
  {
   "cell_type": "markdown",
   "id": "ff42c4f9-3cc6-42bb-b27e-8452eaca8cbc",
   "metadata": {},
   "source": [
    "# Testing Optional Parameters"
   ]
  },
  {
   "cell_type": "code",
   "execution_count": 7,
   "id": "42f32b82-d130-44c9-8977-ef2ed201dec3",
   "metadata": {},
   "outputs": [],
   "source": [
    "def count_long_words(words, min_length=5):\n",
    "    ct = 0\n",
    "    for word in words:\n",
    "        if len(word) >= min_length:\n",
    "            ct += 1\n",
    "    return ct\n",
    "\n"
   ]
  },
  {
   "cell_type": "markdown",
   "id": "8f0be595-2886-45eb-8328-bf15a1ca1138",
   "metadata": {},
   "source": [
    "### Return Value Tests"
   ]
  },
  {
   "cell_type": "code",
   "execution_count": 8,
   "id": "dd6681c0-a5b0-42e3-bdf8-01f032af64ae",
   "metadata": {},
   "outputs": [],
   "source": [
    "test_words = [\"\", \"1\", \"12\", \"123\", \"1234\", \"12345\", \"123456\"]\n",
    "assert count_long_words(test_words) == 2\n",
    "assert count_long_words(test_words, min_length =0) == 7\n",
    "assert count_long_words(test_words, min_length=4) == 3\n",
    "assert count_long_words(test_words, min_length= 100) == 0\n"
   ]
  },
  {
   "cell_type": "code",
   "execution_count": null,
   "id": "17acc98c-acea-4873-bdc9-ef816baa4228",
   "metadata": {},
   "outputs": [],
   "source": []
  }
 ],
 "metadata": {
  "kernelspec": {
   "display_name": "Python 3 (ipykernel)",
   "language": "python",
   "name": "python3"
  },
  "language_info": {
   "codemirror_mode": {
    "name": "ipython",
    "version": 3
   },
   "file_extension": ".py",
   "mimetype": "text/x-python",
   "name": "python",
   "nbconvert_exporter": "python",
   "pygments_lexer": "ipython3",
   "version": "3.12.4"
  }
 },
 "nbformat": 4,
 "nbformat_minor": 5
}
