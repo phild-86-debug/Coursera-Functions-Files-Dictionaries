{
 "cells": [
  {
   "cell_type": "markdown",
   "id": "69e99c21-56d3-4455-8a35-ae4637378bb3",
   "metadata": {},
   "source": [
    "# global_and_local"
   ]
  },
  {
   "cell_type": "markdown",
   "id": "b9020bb6-681d-40ac-b520-7cffa0200773",
   "metadata": {},
   "source": [
    "## Notes\n",
    "1. if w is assigned to a variable that doesn't exist, it is an error.\n",
    "2. if w is used in the function without first being assigned, it will then look for a global variable."
   ]
  },
  {
   "cell_type": "code",
   "execution_count": null,
   "id": "eb21a0a3-4a4f-4526-be63-2ea6f098e0d2",
   "metadata": {},
   "outputs": [],
   "source": [
    "def square(x):\n",
    "    y = x * x\n",
    "    w = g + 3\n",
    "    print(w)\n",
    "    return y\n",
    "\n",
    "x = 19\n",
    "w = 22\n",
    "print(x)\n",
    "square(x)\n"
   ]
  },
  {
   "cell_type": "code",
   "execution_count": null,
   "id": "e89c2363-cd38-42a2-a971-d2ba320d8148",
   "metadata": {},
   "outputs": [],
   "source": [
    "print(\"Hello\")"
   ]
  }
 ],
 "metadata": {
  "kernelspec": {
   "display_name": "Python 3 (ipykernel)",
   "language": "python",
   "name": "python3"
  },
  "language_info": {
   "codemirror_mode": {
    "name": "ipython",
    "version": 3
   },
   "file_extension": ".py",
   "mimetype": "text/x-python",
   "name": "python",
   "nbconvert_exporter": "python",
   "pygments_lexer": "ipython3",
   "version": "3.13.0"
  }
 },
 "nbformat": 4,
 "nbformat_minor": 5
}
