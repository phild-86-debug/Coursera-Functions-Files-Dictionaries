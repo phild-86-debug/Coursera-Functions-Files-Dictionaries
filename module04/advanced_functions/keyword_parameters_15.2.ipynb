{
 "cells": [
  {
   "cell_type": "markdown",
   "id": "4be5b437-5121-474a-b58f-33fb060fabd4",
   "metadata": {},
   "source": [
    "# Keyword Parameters 15.2"
   ]
  },
  {
   "cell_type": "markdown",
   "id": "e66a6d69-1651-46ad-875a-a3dfb0857405",
   "metadata": {},
   "source": [
    "> The basic idea of passing arguments by keyword is very simple. When invoking a function, inside the parentheses there are always 0 or more values,\n",
    "separated by commas. With keyword arguments, some of the values can be of the form paramname = <expr> instead of just <expr>.\n",
    "Note that when you have paramname = <expr> in a function definition,\n",
    "it is defining the default value for a parameter when no value is provided in the invocation;\n",
    "when you have paramname = <expr> in the invocation, it is supplying a value, overriding the default for that paramname."
   ]
  },
  {
   "cell_type": "code",
   "execution_count": null,
   "id": "a06fb992-efb3-42f1-b0a2-89d8c34ce28b",
   "metadata": {},
   "outputs": [],
   "source": [
    "def parrot(voltage, state='a stiff', action='voom', type='Norwegian Blue'):\n",
    "    print(\"-- This parrot wouldn't\", action, end=' ')\n",
    "    print(\"if you put\", voltage, \"volts through it.\")\n",
    "    print(\"-- Lovely plumage, the\", type)\n",
    "    print(\"-- It's\", state, \"!\")\n",
    "\n",
    "parrot(1000)                                          # 1 positional argument\n",
    "parrot(voltage=1000)                                  # 1 keyword argument\n",
    "parrot(voltage=1000000, action='VOOOOOM')             # 2 keyword arguments\n",
    "parrot(action='VOOOOOM', voltage=1000000)             # 2 keyword arguments\n",
    "parrot('a million', 'bereft of life', 'jump')         # 3 positional arguments\n",
    "parrot('a thousand', state='pushing up the daisies')  # 1 positional, 1 keyword"
   ]
  },
  {
   "cell_type": "markdown",
   "id": "cec936bf-0627-4a9a-9ec1-5cfdead59db8",
   "metadata": {},
   "source": [
    "## Keyword Parameters with .format"
   ]
  },
  {
   "cell_type": "code",
   "execution_count": 4,
   "id": "9fefed26-4c7b-41a5-921a-157a55847605",
   "metadata": {},
   "outputs": [
    {
     "name": "stdout",
     "output_type": "stream",
     "text": [
      "The scores Jack got were: 67,89,91.\n",
      "The scores Emily got were: 72,95,42.\n",
      "The scores Taylor got were: 83,92,86.\n"
     ]
    }
   ],
   "source": [
    "names_scores = [(\"Jack\",[67,89,91]),(\"Emily\",[72,95,42]),(\"Taylor\",[83,92,86])]\n",
    "for name, scores in names_scores:\n",
    "    print(\"The scores {nm} got were: {s1},{s2},{s3}.\".format(nm=name,s1=scores[0],s2=scores[1],s3=scores[2]))"
   ]
  },
  {
   "cell_type": "code",
   "execution_count": null,
   "id": "c1689de2-99ac-46e7-a3b3-3ea4b3a1da25",
   "metadata": {},
   "outputs": [],
   "source": [
    "# this works\n",
    "names = [\"Jack\",\"Jill\",\"Mary\"]\n",
    "for n in names:\n",
    "    print(\"'{}!' she yelled. '{}! {}, {}!'\".format(n,n,n,\"say hello\"))\n",
    "\n",
    "# but this also works!\n",
    "names = [\"Jack\",\"Jill\",\"Mary\"]\n",
    "for n in names:\n",
    "    print(\"'{0}!' she yelled. '{0}! {0}, {1}!'\".format(n,\"say hello\"))\n",
    "for name in names:\n",
    "    print(F\"'{name}' she yelled. '{name}! {name}, {'say hello'}\")"
   ]
  },
  {
   "cell_type": "code",
   "execution_count": null,
   "id": "fbb274ac-7d27-44ea-aaf1-9c242d60f6a8",
   "metadata": {},
   "outputs": [],
   "source": []
  }
 ],
 "metadata": {
  "kernelspec": {
   "display_name": "Python 3 (ipykernel)",
   "language": "python",
   "name": "python3"
  },
  "language_info": {
   "codemirror_mode": {
    "name": "ipython",
    "version": 3
   },
   "file_extension": ".py",
   "mimetype": "text/x-python",
   "name": "python",
   "nbconvert_exporter": "python",
   "pygments_lexer": "ipython3",
   "version": "3.12.4"
  }
 },
 "nbformat": 4,
 "nbformat_minor": 5
}
