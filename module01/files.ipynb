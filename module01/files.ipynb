{
 "cells": [
  {
   "cell_type": "markdown",
   "id": "41446679-28bd-4510-bb64-f3471db9392f",
   "metadata": {},
   "source": [
    "# Files  "
   ]
  },
  {
   "cell_type": "markdown",
   "id": "030a9bd5-cd59-41ec-8fa3-2f87c7e6c316",
   "metadata": {},
   "source": [
    "## Reading file"
   ]
  },
  {
   "cell_type": "code",
   "execution_count": null,
   "id": "869be91e-b977-48f3-ad02-d0594b5621b1",
   "metadata": {
    "jupyter": {
     "source_hidden": true
    }
   },
   "outputs": [],
   "source": [
    "# f = open(\"olympics.txt\", \"r\")\n",
    "# using the keyword with to auto close files\n",
    "# with open(\"olympics.txt\", \"r\") as f:\n",
    "\n",
    "\n",
    "    \n",
    "# Read entire file as a single string\n",
    "# entire_file = f.read()\n",
    "# print(entire_file)\n",
    "\n",
    "\n",
    "# Read one line at a time   using readline() method - reads up  to newline character\n",
    "# l = f.readline()\n",
    "# print(l)\n",
    "# print(\"Tnis is a newline: \\n\")\n",
    "# l = f.readline()\n",
    "# print(l)\n",
    "\n",
    "\n",
    "# Readlines method- return a list\n",
    "with open(\"olympics.txt\", \"r\") as f:\n",
    "    lines_list = f.readlines()\n",
    "    for line in lines_list:\n",
    "        print(\"line read: \" + line)\n",
    "#f.close()"
   ]
  },
  {
   "cell_type": "markdown",
   "id": "e4c9fa1f-45d2-40f8-8095-ed28f455e809",
   "metadata": {},
   "source": [
    "### Writing to a text file:"
   ]
  },
  {
   "cell_type": "code",
   "execution_count": 11,
   "id": "e7ee7095-3ced-4c0b-a14d-c6542b163577",
   "metadata": {
    "jupyter": {
     "source_hidden": true
    }
   },
   "outputs": [],
   "source": [
    "# Will loose data to the pre-existing output file\n",
    "f = open(\"output.txt\", \"w\")\n",
    "f.write(\"Gold medal followed by a silver medal followed by a bronze medal: All very good!\\n\")\n",
    "f.write(\"Next Summer olympics will be held in 2028\\n\")\n",
    "f.close()\n",
    "\n"
   ]
  },
  {
   "cell_type": "markdown",
   "id": "b5a016e4-6cfb-480a-97f8-98c8a67cba15",
   "metadata": {},
   "source": [
    "### Reading a file (Lecture 10.2)"
   ]
  },
  {
   "cell_type": "markdown",
   "id": "ecc91a57-f0b3-4c80-a293-62a327f0952b",
   "metadata": {},
   "source": [
    "#### Read() method\n",
    "Reads entire file as a single string\n"
   ]
  },
  {
   "cell_type": "code",
   "execution_count": null,
   "id": "1c8357bd-9b26-4945-a180-885089f9a457",
   "metadata": {
    "jupyter": {
     "source_hidden": true
    }
   },
   "outputs": [],
   "source": [
    "# read() metnod- brings entire file contents in as a single string\n",
    "fileref = open(\"Olympics.txt\", \"r\")\n",
    "\n",
    "contents = fileref.read()\n",
    "print(contents[:100])\n",
    "contents_split=contents.split(\"\\n\")\n",
    "print(contents_split[:2])\n",
    "fileref.close()\n"
   ]
  },
  {
   "cell_type": "markdown",
   "id": "fa298fb5-6e2c-423e-9657-b1f16115e4c3",
   "metadata": {},
   "source": [
    "#### readlines() method -\n",
    "Returns a list: one string for each line in the file"
   ]
  },
  {
   "cell_type": "code",
   "execution_count": null,
   "id": "d0438cd0-36da-4e59-b81e-89df5cd7053a",
   "metadata": {
    "jupyter": {
     "source_hidden": true
    }
   },
   "outputs": [],
   "source": [
    "# Uses readline() method to create a list and then iterate over lines in the list\n",
    "fileref = open(\"olympics.txt\", \"r\")\n",
    "lines = fileref.readlines()\n",
    "# get len of the file\n",
    "print(\"Len of file is: \", len(lines[1:]))\n",
    "print(lines[1:4])\n",
    "fileref.close()"
   ]
  },
  {
   "cell_type": "code",
   "execution_count": null,
   "id": "543de1c7-3bdf-44d3-ac22-04030d09ed6c",
   "metadata": {
    "jupyter": {
     "source_hidden": true
    }
   },
   "outputs": [],
   "source": [
    "# iterate through lines uses Strip() method\n",
    "# prints an extra blank line between lines\n",
    "for line in lines[1:6]:\n",
    "    print(line)\n",
    "# remove extra blank line with .strip() method\n",
    "for line in lines[1:6]:\n",
    "    print(line.strip())\n",
    "    \n",
    "\n",
    "\n"
   ]
  },
  {
   "cell_type": "code",
   "execution_count": null,
   "id": "be19a92f-6ee5-4b43-92bc-695372dc7c5c",
   "metadata": {
    "jupyter": {
     "source_hidden": true
    }
   },
   "outputs": [],
   "source": [
    "# Directly iterate over file object-   Best way to iterate over an object\n",
    "# Can not slice- does not support slicing\n",
    "fileref = open(\"olympics.txt\", \"r\")\n",
    "for line in fileref:\n",
    "    print(line.strip())\n",
    "fileref.close()"
   ]
  }
 ],
 "metadata": {
  "kernelspec": {
   "display_name": "Python 3 (ipykernel)",
   "language": "python",
   "name": "python3"
  },
  "language_info": {
   "codemirror_mode": {
    "name": "ipython",
    "version": 3
   },
   "file_extension": ".py",
   "mimetype": "text/x-python",
   "name": "python",
   "nbconvert_exporter": "python",
   "pygments_lexer": "ipython3",
   "version": "3.12.4"
  }
 },
 "nbformat": 4,
 "nbformat_minor": 5
}
