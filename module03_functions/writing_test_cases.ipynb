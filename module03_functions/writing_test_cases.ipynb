{
 "cells": [
  {
   "cell_type": "markdown",
   "id": "47e30254-492a-4200-85ae-efd67ec191f9",
   "metadata": {},
   "source": [
    "# Writing Test Cases"
   ]
  },
  {
   "cell_type": "code",
   "execution_count": 26,
   "id": "db4a622a-b206-4c9d-8bbe-1e14e3c2f5ca",
   "metadata": {},
   "outputs": [],
   "source": [
    "def update_counts(letters, counts_d):\n",
    "    for c in letters:\n",
    "        # counts_d[c] = 1\n",
    "        if c in counts_d:\n",
    "            counts_d[c] = counts_d[c] + 1\n",
    "        else:\n",
    "            counts_d[c] = 1\n",
    "\n",
    "\n",
    "counts = {'a':3, 'b':2}\n",
    "update_counts(\"aaab\", counts)\n",
    "\n",
    "assert counts['a'] == 6\n",
    "assert counts['b'] == 3\n",
    "\n",
    "\n",
    "\n",
    "# pass in an empty dictionary\n",
    "counts = {}\n",
    "update_counts(\"aaab\", counts)\n",
    "\n",
    "assert counts['a'] == 3\n",
    "assert counts['b'] == 1\n",
    "\n",
    "# pass in an empty string\n",
    "counts = {'a':3, 'b':2}\n",
    "update_counts(\"\", counts)\n",
    "\n",
    "assert counts['a'] == 3\n",
    "assert counts['b'] == 2\n"
   ]
  },
  {
   "cell_type": "code",
   "execution_count": null,
   "id": "40767365-873f-47b9-aa46-e943fbe2bf02",
   "metadata": {},
   "outputs": [],
   "source": []
  }
 ],
 "metadata": {
  "kernelspec": {
   "display_name": "Python 3 (ipykernel)",
   "language": "python",
   "name": "python3"
  },
  "language_info": {
   "codemirror_mode": {
    "name": "ipython",
    "version": 3
   },
   "file_extension": ".py",
   "mimetype": "text/x-python",
   "name": "python",
   "nbconvert_exporter": "python",
   "pygments_lexer": "ipython3",
   "version": "3.13.0"
  }
 },
 "nbformat": 4,
 "nbformat_minor": 5
}
