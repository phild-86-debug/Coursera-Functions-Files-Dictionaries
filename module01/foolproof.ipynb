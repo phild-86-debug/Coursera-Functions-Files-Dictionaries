{
 "cells": [
  {
   "cell_type": "markdown",
   "id": "8588fded-8eda-401d-92a1-1f4c0303ee53",
   "metadata": {},
   "source": [
    "# Fool proof recipe for working with  and processing text files: (Except large files)-"
   ]
  },
  {
   "cell_type": "markdown",
   "id": "66308c80-1b85-4154-b9e4-9ec77d856bed",
   "metadata": {},
   "source": [
    "### Steps\n",
    "\n",
    "#1. Open the file using with and open.\n",
    "\n",
    "#2. Use .readlines() to get a list of the lines of text in the file.\n",
    "\n",
    "#3. Use a for loop to iterate through the strings in the list, each being one line from the file. On each iteration, process that line of text\n",
    "\n",
    "#4. When you are done extracting data from the file, continue writing your code outside of the indentation. Using with will automatically close the file once the program exits the with block.teps\n"
   ]
  },
  {
   "cell_type": "code",
   "execution_count": 1,
   "id": "1c8ccc00-61f0-4c0b-8ed1-2292cbae74c1",
   "metadata": {},
   "outputs": [
    {
     "name": "stdout",
     "output_type": "stream",
     "text": [
      "Your file\n",
      "\n",
      "My file\n",
      "\n",
      "What is the difference?\n",
      "\n",
      "Four score and seven years ago I started to learn to program.\n",
      "\n",
      "Eventually I may learn what I am  doing?\n",
      "\n",
      "Well, maybe!\n",
      "\n"
     ]
    }
   ],
   "source": [
    "fname = \"yourfile.txt\"\n",
    "with open(fname, 'r') as fileref:         # step 1\n",
    "    lines = fileref.readlines()           # step 2\n",
    "    for lin in lines:                     # step 3\n",
    "        print(lin)\n",
    "        #some code that references the variable lin\n",
    "#some other code not relying on fileref   # step 4\n",
    "\n",
    "        "
   ]
  }
 ],
 "metadata": {
  "kernelspec": {
   "display_name": "Python 3 (ipykernel)",
   "language": "python",
   "name": "python3"
  },
  "language_info": {
   "codemirror_mode": {
    "name": "ipython",
    "version": 3
   },
   "file_extension": ".py",
   "mimetype": "text/x-python",
   "name": "python",
   "nbconvert_exporter": "python",
   "pygments_lexer": "ipython3",
   "version": "3.12.4"
  }
 },
 "nbformat": 4,
 "nbformat_minor": 5
}
