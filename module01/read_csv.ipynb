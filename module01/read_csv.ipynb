{
 "cells": [
  {
   "cell_type": "markdown",
   "id": "48d42e00-3fd5-4920-b27c-18e2d5d9fbe7",
   "metadata": {},
   "source": [
    "# read_csv"
   ]
  },
  {
   "cell_type": "markdown",
   "id": "ce05445b-3d29-4779-b74f-bfea674ae10d",
   "metadata": {},
   "source": [
    "### Read csv files w/out csv module"
   ]
  },
  {
   "cell_type": "code",
   "execution_count": 13,
   "id": "732397a3-f2e4-40be-ae45-b64576e86ae0",
   "metadata": {},
   "outputs": [
    {
     "name": "stdout",
     "output_type": "stream",
     "text": [
      "['Name', 'Sex', 'Age', 'Team', 'Event', 'Medal']\n",
      "Type of field_names is:  <class 'list'>\n",
      "Type of field_names[0] is:  <class 'str'>\n",
      "Edgar Lindenau Aabye: Tug-Of-War; Gold\n",
      "Arvo Ossian Aaltonen: Swimming; Bronze\n",
      "Arvo Ossian Aaltonen: Swimming; Bronze\n",
      "Juhamatti Tapio Aaltonen: Ice Hockey; Bronze\n",
      "Paavo Johannes Aaltonen: Gymnastics; Bronze\n",
      "Paavo Johannes Aaltonen: Gymnastics; Gold\n",
      "Paavo Johannes Aaltonen: Gymnastics; Gold\n",
      "Paavo Johannes Aaltonen: Gymnastics; Gold\n",
      "Paavo Johannes Aaltonen: Gymnastics; Bronze\n",
      "Type of vals[0] is: <class 'str'>\n"
     ]
    }
   ],
   "source": [
    "fileconnection = open(\"olympics.txt\", \"r\")\n",
    "lines = fileconnection.readlines()\n",
    "header = lines[0]\n",
    "field_names = header.strip().split(',')\n",
    "print(field_names)\n",
    "print(\"Type of field_names is: \", type(field_names))\n",
    "print(\"Type of field_names[0] is: \", type(field_names[0]))\n",
    "for row in lines[1:]:\n",
    "    \n",
    "    vals = row.strip().split(',')\n",
    "    if vals[5] != \"NA\":\n",
    "        print(\"{}: {}; {}\".format(\n",
    "            vals[0],\n",
    "            vals[4],\n",
    "            vals[5]\n",
    "        ))\n",
    "print(\"Type of vals[0] is: \" + str(type(vals[0])))\n",
    "fileconnection.close()"
   ]
  }
 ],
 "metadata": {
  "kernelspec": {
   "display_name": "Python 3 (ipykernel)",
   "language": "python",
   "name": "python3"
  },
  "language_info": {
   "codemirror_mode": {
    "name": "ipython",
    "version": 3
   },
   "file_extension": ".py",
   "mimetype": "text/x-python",
   "name": "python",
   "nbconvert_exporter": "python",
   "pygments_lexer": "ipython3",
   "version": "3.12.4"
  }
 },
 "nbformat": 4,
 "nbformat_minor": 5
}
