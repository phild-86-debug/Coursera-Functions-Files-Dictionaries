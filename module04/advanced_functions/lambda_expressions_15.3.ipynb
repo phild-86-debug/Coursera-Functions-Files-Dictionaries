{
 "cells": [
  {
   "cell_type": "markdown",
   "id": "28c4df79-2376-4f03-9c85-6cc3ff4e3d53",
   "metadata": {},
   "source": [
    "# Lambda Expressions 15.3"
   ]
  },
  {
   "cell_type": "code",
   "execution_count": 16,
   "id": "d8084161-b8ba-412f-882d-c17bf79ebdbe",
   "metadata": {},
   "outputs": [
    {
     "name": "stdout",
     "output_type": "stream",
     "text": [
      "<function f at 0x000001D629AEF880>\n",
      "<class 'function'>\n",
      "2\n",
      "<function <lambda> at 0x000001D629AEE020>\n",
      "<class 'function'>\n",
      "4\n"
     ]
    }
   ],
   "source": [
    "def f(x):\n",
    "    return x - 1\n",
    "\n",
    "print(f)\n",
    "print(type(f))\n",
    "print(f(3))  \n",
    "\n",
    "print(lambda x: x-2)\n",
    "print(type(lambda x: x-2))\n",
    "print((lambda x: x-2)(6))"
   ]
  },
  {
   "cell_type": "code",
   "execution_count": 25,
   "id": "6f11bd6d-1d6a-42a5-8247-6b0d4bde71ab",
   "metadata": {},
   "outputs": [
    {
     "name": "stdout",
     "output_type": "stream",
     "text": [
      "o\n",
      "-1004\n"
     ]
    }
   ],
   "source": [
    "def last_char(s):\n",
    "    return s[-1]\n",
    "\n",
    "last_char  = (lambda s: s[-1])(\"hello\")\n",
    "print(last_char)\n",
    "\n",
    "\n",
    "var1 = (lambda x: -x)(1004)\n",
    "print(var1)"
   ]
  }
 ],
 "metadata": {
  "kernelspec": {
   "display_name": "Python 3 (ipykernel)",
   "language": "python",
   "name": "python3"
  },
  "language_info": {
   "codemirror_mode": {
    "name": "ipython",
    "version": 3
   },
   "file_extension": ".py",
   "mimetype": "text/x-python",
   "name": "python",
   "nbconvert_exporter": "python",
   "pygments_lexer": "ipython3",
   "version": "3.12.4"
  }
 },
 "nbformat": 4,
 "nbformat_minor": 5
}
