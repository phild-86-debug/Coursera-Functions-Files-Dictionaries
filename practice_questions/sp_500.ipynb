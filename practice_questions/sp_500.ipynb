{
 "cells": [
  {
   "cell_type": "markdown",
   "id": "03f653a9-d1d1-4acf-8889-8dd0ca9d49de",
   "metadata": {},
   "source": [
    "# sp_500.ipynb"
   ]
  },
  {
   "cell_type": "code",
   "execution_count": 30,
   "id": "978958a1-6d4b-4f11-a2d8-b3e3d2f9e145",
   "metadata": {},
   "outputs": [
    {
     "name": "stdout",
     "output_type": "stream",
     "text": [
      "2236.8816666666667\n",
      "2.49\n"
     ]
    }
   ],
   "source": [
    "fname = 'SP500.txt'\n",
    "with open(fname, 'r') as f:\n",
    "    lines = f.readlines()\n",
    "    closing_prices = []\n",
    "    long_term_interest = []\n",
    "    for lin in lines[1:]:\n",
    "        date = lin.strip().split(',')[0].split('/')\n",
    "        \n",
    "        # assign date values\n",
    "        # Todo: Date values needs improvement\n",
    "        for i in range(len(date)):\n",
    "            \n",
    "        \n",
    "            #print(date[i])\n",
    "            if i == 0:\n",
    "                month = int(date[0])\n",
    "            elif i == 2:\n",
    "                \n",
    "                year = int(date[2])\n",
    "       \n",
    "        if (month >= 6 and year == 2016) or (year == 2017 and month <= 5):\n",
    "           \n",
    "            row = lin.split(',')\n",
    "            closing_prices.append(row[1])\n",
    "            long_term_interest.append(row[5])\n",
    "        \n",
    "  \n",
    "    sum_cp = 0  \n",
    "    for num in closing_prices:\n",
    "        sum_cp += float(num)\n",
    "    mean_SP = sum_cp / len(closing_prices)\n",
    "    print(mean_SP)\n",
    "    max_interest = float(max(long_term_interest))\n",
    "    print(float(max_interest))\n",
    "    \n",
    "    \n",
    "    \n",
    "        \n",
    "        "
   ]
  },
  {
   "cell_type": "code",
   "execution_count": 27,
   "id": "532575c5-2065-4a88-b643-938227761336",
   "metadata": {},
   "outputs": [
    {
     "name": "stdout",
     "output_type": "stream",
     "text": [
      "2\n"
     ]
    }
   ],
   "source": []
  }
 ],
 "metadata": {
  "kernelspec": {
   "display_name": "Python 3 (ipykernel)",
   "language": "python",
   "name": "python3"
  },
  "language_info": {
   "codemirror_mode": {
    "name": "ipython",
    "version": 3
   },
   "file_extension": ".py",
   "mimetype": "text/x-python",
   "name": "python",
   "nbconvert_exporter": "python",
   "pygments_lexer": "ipython3",
   "version": "3.12.4"
  }
 },
 "nbformat": 4,
 "nbformat_minor": 5
}
