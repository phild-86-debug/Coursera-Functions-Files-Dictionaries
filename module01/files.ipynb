{
 "cells": [
  {
   "cell_type": "markdown",
   "id": "41446679-28bd-4510-bb64-f3471db9392f",
   "metadata": {},
   "source": [
    "# Files  "
   ]
  },
  {
   "cell_type": "markdown",
   "id": "030a9bd5-cd59-41ec-8fa3-2f87c7e6c316",
   "metadata": {},
   "source": [
    "## Reading file"
   ]
  },
  {
   "cell_type": "code",
   "execution_count": null,
   "id": "869be91e-b977-48f3-ad02-d0594b5621b1",
   "metadata": {
    "jupyter": {
     "source_hidden": true
    }
   },
   "outputs": [],
   "source": [
    "# f = open(\"olympics.txt\", \"r\")\n",
    "# using the keyword with to auto close files\n",
    "# with open(\"olympics.txt\", \"r\") as f:\n",
    "\n",
    "\n",
    "    \n",
    "# Read entire file as a single string\n",
    "# entire_file = f.read()\n",
    "# print(entire_file)\n",
    "\n",
    "\n",
    "# Read one line at a time   using readline() method - reads up  to newline character\n",
    "# l = f.readline()\n",
    "# print(l)\n",
    "# print(\"Tnis is a newline: \\n\")\n",
    "# l = f.readline()\n",
    "# print(l)\n",
    "\n",
    "\n",
    "# Readlines method- return a list\n",
    "with open(\"olympics.txt\", \"r\") as f:\n",
    "    lines_list = f.readlines()\n",
    "    for line in lines_list:\n",
    "        print(\"line read: \" + line)\n",
    "#f.close()"
   ]
  },
  {
   "cell_type": "markdown",
   "id": "e4c9fa1f-45d2-40f8-8095-ed28f455e809",
   "metadata": {},
   "source": [
    "### Writing to a text file:"
   ]
  },
  {
   "cell_type": "code",
   "execution_count": 11,
   "id": "e7ee7095-3ced-4c0b-a14d-c6542b163577",
   "metadata": {
    "jupyter": {
     "source_hidden": true
    }
   },
   "outputs": [],
   "source": [
    "# Will loose data to the pre-existing output file\n",
    "f = open(\"output.txt\", \"w\")\n",
    "f.write(\"Gold medal followed by a silver medal followed by a bronze medal: All very good!\\n\")\n",
    "f.write(\"Next Summer olympics will be held in 2028\\n\")\n",
    "f.close()\n",
    "\n"
   ]
  },
  {
   "cell_type": "markdown",
   "id": "b5a016e4-6cfb-480a-97f8-98c8a67cba15",
   "metadata": {},
   "source": [
    "### Reading a file (Lecture 10.2)"
   ]
  },
  {
   "cell_type": "markdown",
   "id": "ecc91a57-f0b3-4c80-a293-62a327f0952b",
   "metadata": {},
   "source": [
    "#### Read() method\n",
    "Reads entire file as a single string\n"
   ]
  },
  {
   "cell_type": "code",
   "execution_count": null,
   "id": "1c8357bd-9b26-4945-a180-885089f9a457",
   "metadata": {
    "jupyter": {
     "source_hidden": true
    }
   },
   "outputs": [],
   "source": [
    "# read() metnod- brings entire file contents in as a single string\n",
    "fileref = open(\"Olympics.txt\", \"r\")\n",
    "\n",
    "contents = fileref.read()\n",
    "print(contents[:100])\n",
    "contents_split=contents.split(\"\\n\")\n",
    "print(contents_split[:2])\n",
    "fileref.close()\n"
   ]
  },
  {
   "cell_type": "markdown",
   "id": "fa298fb5-6e2c-423e-9657-b1f16115e4c3",
   "metadata": {},
   "source": [
    "#### readlines() method -\n",
    "Returns a list: one string for each line in the file"
   ]
  },
  {
   "cell_type": "code",
   "execution_count": 2,
   "id": "d0438cd0-36da-4e59-b81e-89df5cd7053a",
   "metadata": {},
   "outputs": [
    {
     "name": "stdout",
     "output_type": "stream",
     "text": [
      "Len of file is:  59\n",
      "['A Dijiang,M,24,China,Basketball,NA\\n', 'A Lamusi,M,23,China,Judo,NA\\n', 'Gunnar Nielsen Aaby,M,24,Denmark,Football,NA\\n']\n"
     ]
    }
   ],
   "source": [
    "# Uses readline() method to create a list and then iterate over lines in the list\n",
    "fileref = open(\"olympics.txt\", \"r\")\n",
    "lines = fileref.readlines()\n",
    "# get len of the file\n",
    "print(\"Len of file is: \", len(lines[1:]))\n",
    "print(lines[1:4])\n",
    "fileref.close()"
   ]
  },
  {
   "cell_type": "code",
   "execution_count": null,
   "id": "543de1c7-3bdf-44d3-ac22-04030d09ed6c",
   "metadata": {},
   "outputs": [],
   "source": [
    "# iterate through lines uses Strip() method\n",
    "# prints an extra blank line between lines\n",
    "for line in lines[1:6]:\n",
    "    print(line)\n",
    "# remove extra blank line with .strip() method\n",
    "for line in lines[1:6]:\n",
    "    print(line.strip())\n",
    "    \n",
    "\n",
    "\n"
   ]
  },
  {
   "cell_type": "code",
   "execution_count": null,
   "id": "be19a92f-6ee5-4b43-92bc-695372dc7c5c",
   "metadata": {},
   "outputs": [],
   "source": [
    "# Directly iterate over file object-   Best way to iterate over an object\n",
    "# Can not slice- does not support slicing\n",
    "fileref = open(\"olympics.txt\", \"r\")\n",
    "for line in fileref:\n",
    "    print(line.strip())\n",
    "fileref.close()"
   ]
  },
  {
   "cell_type": "code",
   "execution_count": 9,
   "id": "3a7fd300-2534-4296-abde-f502bf161e41",
   "metadata": {},
   "outputs": [
    {
     "name": "stdout",
     "output_type": "stream",
     "text": [
      "phil, tomato soup, custard and honey\n",
      "George, Vegtable soup, ice cream\n"
     ]
    }
   ],
   "source": [
    "list1 = [\"phil, tomato soup, custard and honey\", \"George, Vegtable soup, ice cream\"]\n",
    "for value in list1:\n",
    "    assert type(value) == str\n",
    "    value.split(\",\")\n",
    "    print(value)"
   ]
  },
  {
   "cell_type": "code",
   "execution_count": null,
   "id": "1f8a77ce-7907-4d76-8933-762185622c32",
   "metadata": {},
   "outputs": [],
   "source": [
    "olympicsfile = open(\"olympics.txt\", \"r\")\n",
    "\n",
    "for aline in olympicsfile.readlines():\n",
    "    values = aline.split(\",\")\n",
    "    print (values[0], \"is from\", values[3], \"and is on the roster for\", values[4])\n",
    "\n",
    "olympicsfile.close()\n",
    "\n",
    "    "
   ]
  },
  {
   "cell_type": "code",
   "execution_count": null,
   "id": "9b72aae1-83e8-4420-9c34-70500326baf7",
   "metadata": {},
   "outputs": [],
   "source": [
    "# quicker method than the above- direct iteration over each  line.\n",
    "olympicsfile = open(\"olympics.txt\" ,\"r\")\n",
    "\n",
    "for aline in olympicsfile:\n",
    "    values = aline.split(\",\")\n",
    "    print(values[0], \"is from\", values[3], \"and is on the roster for\", values[4])\n",
    "\n",
    "olympicsfile.close()\n"
   ]
  },
  {
   "cell_type": "code",
   "execution_count": 2,
   "id": "8344c8b7-90a0-4d79-8660-0e05bb056ce8",
   "metadata": {},
   "outputs": [
    {
     "name": "stdout",
     "output_type": "stream",
     "text": [
      "7\n"
     ]
    }
   ],
   "source": [
    "emotionfile = open(\"emotion_words.txt\")\n",
    "num_lines = 0\n",
    "for aline in emotionfile:\n",
    "    num_lines += 1\n",
    "emotionfile.close()\n",
    "print(num_lines)"
   ]
  },
  {
   "cell_type": "code",
   "execution_count": 6,
   "id": "a6f2bf61-4c8d-4896-84d7-b4365d9e19e0",
   "metadata": {},
   "outputs": [
    {
     "name": "stdout",
     "output_type": "stream",
     "text": [
      "536\n"
     ]
    }
   ],
   "source": [
    "# Counting  the number of characters\n",
    "fileobj = open(\"school_prompt2.txt\")\n",
    "num_char = 0\n",
    "for aline in  fileobj.readlines():\n",
    "    for char in aline:\n",
    "        num_char += 1\n",
    "fileobj.close()\n",
    "print(num_char)"
   ]
  },
  {
   "cell_type": "code",
   "execution_count": 7,
   "id": "143bccf2-547c-4641-a4f8-3cd2a8d15c42",
   "metadata": {},
   "outputs": [
    {
     "name": "stdout",
     "output_type": "stream",
     "text": [
      "11\n"
     ]
    }
   ],
   "source": [
    "# Counting the number of lines\n",
    "fileobj = open(\"travel_plans2.txt\")\n",
    "num_lines = 0\n",
    "for aline in fileobj.readlines():\n",
    "    num_lines += 1\n",
    "fileobj.close()\n",
    "print(num_lines)"
   ]
  },
  {
   "cell_type": "code",
   "execution_count": 17,
   "id": "ed149053-dbfe-45d3-87e8-a216d1cf6f83",
   "metadata": {},
   "outputs": [
    {
     "name": "stdout",
     "output_type": "stream",
     "text": [
      "Sad upset blue down melancholy somber bi\n"
     ]
    }
   ],
   "source": [
    "# Create a new string with the first 40 characters of the text file\n",
    "fileobj = open(\"emotion_words2.txt\")\n",
    "first_forty = \"\"\n",
    "for char in fileobj.read()[:40]:\n",
    "    first_forty = first_forty + char\n",
    "#first_forty = first_forty  + fileobj.read[:41]\n",
    "\n",
    "fileobj.close()\n",
    "print(first_forty)"
   ]
  }
 ],
 "metadata": {
  "kernelspec": {
   "display_name": "Python 3 (ipykernel)",
   "language": "python",
   "name": "python3"
  },
  "language_info": {
   "codemirror_mode": {
    "name": "ipython",
    "version": 3
   },
   "file_extension": ".py",
   "mimetype": "text/x-python",
   "name": "python",
   "nbconvert_exporter": "python",
   "pygments_lexer": "ipython3",
   "version": "3.12.4"
  }
 },
 "nbformat": 4,
 "nbformat_minor": 5
}
