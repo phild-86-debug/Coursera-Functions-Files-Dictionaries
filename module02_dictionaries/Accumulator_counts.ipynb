{
 "cells": [
  {
   "cell_type": "markdown",
   "id": "0a8641fa-53e5-40bf-8bbe-1d16b04f150f",
   "metadata": {},
   "source": [
    "# Accumulator Counts in Dictionary"
   ]
  },
  {
   "cell_type": "code",
   "execution_count": 5,
   "id": "8a062c73-3683-41e9-9adc-3a91c9578ebd",
   "metadata": {},
   "outputs": [
    {
     "name": "stdout",
     "output_type": "stream",
     "text": [
      "t: 17584 occurrences\n",
      "s: 11830 occurrences\n"
     ]
    }
   ],
   "source": [
    "f = open('scarlet.txt', 'r')\n",
    "txt = f.read()\n",
    "# now txt is one long string containing all the characters\n",
    "letter_counts = {} # start with an empty dictionary\n",
    "letter_counts['t'] = 0  # initialize the t counter\n",
    "letter_counts['s'] = 0  # initialize the s counter\n",
    "for c in txt:\n",
    "    if c == 't':\n",
    "        letter_counts['t'] = letter_counts['t'] + 1  # increment the t counter\n",
    "    elif c == 's':\n",
    "        letter_counts['s'] = letter_counts['s'] + 1  # increment the s counter\n",
    "\n",
    "print(\"t: \" + str(letter_counts['t']) + \" occurrences\")\n",
    "print(\"s: \" + str(letter_counts['s']) + \" occurrences\")"
   ]
  },
  {
   "cell_type": "code",
   "execution_count": 7,
   "id": "88f41b2e-0239-48ab-bdee-162682701d46",
   "metadata": {},
   "outputs": [
    {
     "name": "stdout",
     "output_type": "stream",
     "text": [
      "t: 17584 occurrences\n",
      "s: 11830 occurrences\n"
     ]
    }
   ],
   "source": [
    "# Better program \n",
    "f = open('scarlet.txt', 'r')\n",
    "txt = f.read()\n",
    "# now txt is one long string containing all the characters\n",
    "letter_counts = {} # start with an empty dictionary\n",
    "for c in txt:\n",
    "    if c not in letter_counts:\n",
    "        # we have not seen this character before, so initialize a counter for it\n",
    "        letter_counts[c] = 0\n",
    "\n",
    "    #whether we've seen it before or not, increment its counter\n",
    "    letter_counts[c] = letter_counts[c] + 1\n",
    "\n",
    "print(\"t: \" + str(letter_counts['t']) + \" occurrences\")\n",
    "print(\"s: \" + str(letter_counts['s']) + \" occurrences\")"
   ]
  },
  {
   "cell_type": "code",
   "execution_count": null,
   "id": "066022b7-40dd-459f-a488-2634b986140e",
   "metadata": {},
   "outputs": [],
   "source": [
    "# Better program\n",
    "f = open('scarlet.txt', 'r')\n",
    "txt = f.read()\n",
    "\n",
    "letter_counts = {}\n",
    "for c in txt:\n",
    "    letter_counts[c] = letter_counts.get(c,0) + 1\n",
    "\n",
    "for key, value in sorted( letter_counts.items()):\n",
    "    print(key, value)"
   ]
  },
  {
   "cell_type": "code",
   "execution_count": null,
   "id": "09d49fd6-4a17-4d6a-962d-e0d8543b4d0e",
   "metadata": {},
   "outputs": [],
   "source": [
    "f = open('scarlet.txt', 'r')\n",
    "txt = f.read()\n",
    "# now txt is one long string containing all the characters\n",
    "letter_counts = {} # start with an empty dictionary\n",
    "for c in txt:\n",
    "    if c not in letter_counts:\n",
    "        # we have not seen this character before, so initialize a counter for it\n",
    "        letter_counts[c] = 0\n",
    "\n",
    "    #whether we've seen it before or not, increment its counter\n",
    "    letter_counts[c] = letter_counts[c] + 1\n",
    "\n",
    "for c in letter_counts:\n",
    "    print(c +  \": \" + str(letter_counts[c]) + \" occurrences\")\n",
    "# for c in txt:\n",
    "    #print(f\"{c}: {letter_counts[c]} occurences\")\n"
   ]
  },
  {
   "cell_type": "code",
   "execution_count": 19,
   "id": "f23637e3-ab33-4992-8868-75b0e85ad1cc",
   "metadata": {},
   "outputs": [
    {
     "name": "stdout",
     "output_type": "stream",
     "text": [
      "5155\n"
     ]
    }
   ],
   "source": [
    "# num lines in scarlet.txt\n",
    "f = open('scarlet.txt')\n",
    "txt_lines = f.readlines()\n",
    "print(len(txt_lines))\n",
    "f.close()"
   ]
  },
  {
   "cell_type": "markdown",
   "id": "6bfca260-8144-43d3-b141-aa7527be54c9",
   "metadata": {},
   "source": [
    "#### Problems"
   ]
  },
  {
   "cell_type": "code",
   "execution_count": 23,
   "id": "025199c2-93c9-4417-8f78-b723ba901030",
   "metadata": {},
   "outputs": [
    {
     "name": "stdout",
     "output_type": "stream",
     "text": [
      "{'The': 1, 'dog': 1, 'chased': 1, 'the': 3, 'rabbit': 2, 'into': 1, 'forest': 1, 'but': 1, 'was': 1, 'too': 1, 'quick.': 1}\n"
     ]
    }
   ],
   "source": [
    "# Split the string sentence into a list of words, \n",
    "# then create a dictionary named word_counts that contains each word and the number of times it occurs.\n",
    "sentence = \"The dog chased the rabbit into the forest but the rabbit was too quick.\"\n",
    "sentence_split = sentence.split()\n",
    "word_counts = {}\n",
    "for word in sentence_split:\n",
    "    word_counts[word] = word_counts.get(word, 0) + 1\n",
    "print(word_counts)\n",
    "\n",
    "\n"
   ]
  },
  {
   "cell_type": "code",
   "execution_count": 1,
   "id": "6e26c672-ec80-44cb-8548-a1fb629a2b2f",
   "metadata": {},
   "outputs": [
    {
     "name": "stdout",
     "output_type": "stream",
     "text": [
      "{'w': 1, 'h': 1, 'a': 2, 't': 1, ' ': 3, 'c': 1, 'n': 1, 'I': 1, 'd': 1, 'o': 1}\n",
      "[1, 1, 2, 1, 3, 1, 1, 1, 1, 1]\n",
      "[('w', 1), ('h', 1), ('a', 2), ('t', 1), (' ', 3), ('c', 1), ('n', 1), ('I', 1), ('d', 1), ('o', 1)]\n",
      "1\n",
      "not here sorry charlie\n"
     ]
    }
   ],
   "source": [
    "'''\n",
    "Create a dictionary called char_d. \n",
    "The keys of the dictionary should be each character in stri,\n",
    "and the value for each key \n",
    "should be how many times the character occurs in the string.\n",
    "'''\n",
    "\n",
    "stri = \"what can I do\"\n",
    "char_d = {}\n",
    "for c in stri:\n",
    "    char_d[c] = char_d.get(c, 0) + 1\n",
    "print(char_d)\n",
    "\n",
    "# practice iteration\n",
    "print(list(char_d.values()))\n",
    "print(list(char_d.items()))\n",
    "\n",
    "print(char_d.get('t'))\n",
    "print(char_d.get('Hello', 'not here sorry charlie'))\n"
   ]
  },
  {
   "cell_type": "code",
   "execution_count": 4,
   "id": "91a4627b-371b-488b-89de-1c5d8bdb1f76",
   "metadata": {},
   "outputs": [
    {
     "name": "stdout",
     "output_type": "stream",
     "text": [
      "{'the': 7, 'dog': 2, 'chased': 1, 'rabbit': 3, 'into': 1, 'forest': 2, 'but': 2, 'was': 1, 'too': 1, 'quick': 1, 'who': 1, 'really': 1, 'cares': 1, 'about': 1, 'anyway': 1, 'or': 2}\n"
     ]
    }
   ],
   "source": [
    "# split sentence. Create a dictionary with the number of times the word occurs\n",
    "sentence = \"The dog chased the rabbit into the forest but the rabbit was too quick but who really cares about the rabbit anyway or the forest or the dog\"\n",
    "sentence = sentence.lower()\n",
    "word_dict = {}\n",
    "words = sentence.split()\n",
    "for word in words:\n",
    "    word_dict[word] = word_dict.get(word, 0) + 1\n",
    "print(word_dict)\n",
    "    "
   ]
  }
 ],
 "metadata": {
  "kernelspec": {
   "display_name": "Python 3 (ipykernel)",
   "language": "python",
   "name": "python3"
  },
  "language_info": {
   "codemirror_mode": {
    "name": "ipython",
    "version": 3
   },
   "file_extension": ".py",
   "mimetype": "text/x-python",
   "name": "python",
   "nbconvert_exporter": "python",
   "pygments_lexer": "ipython3",
   "version": "3.12.4"
  }
 },
 "nbformat": 4,
 "nbformat_minor": 5
}
