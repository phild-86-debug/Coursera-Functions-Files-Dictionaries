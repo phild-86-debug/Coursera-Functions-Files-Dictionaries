{
 "cells": [
  {
   "cell_type": "markdown",
   "id": "e43839de",
   "metadata": {},
   "source": [
    "# Randomly Walking Turtles\n"
   ]
  },
  {
   "cell_type": "markdown",
   "id": "64ea6c38",
   "metadata": {},
   "source": [
    "### Pseudo Code\n",
    "\n",
    "create a window and a turtle\n",
    "\n",
    "while the turtle is still in the window:\n",
    "    generate a random number between 0 and 1 <br>\n",
    "    if the number == 0 (heads): <br>\n",
    "        turn left<br>\n",
    "    else:<br>\n",
    "        turn right<br>\n",
    "    move the turtle forward 50"
   ]
  },
  {
   "cell_type": "markdown",
   "id": "d877218a",
   "metadata": {},
   "source": [
    "### Version : Random still on screen"
   ]
  },
  {
   "cell_type": "code",
   "execution_count": 1,
   "id": "d16e3f04",
   "metadata": {},
   "outputs": [],
   "source": [
    "# version 1\n",
    "import random\n",
    "import turtle\n",
    "\n",
    "\n",
    "def isInScreen(w, t):\n",
    "    if random.random() > 0.1:\n",
    "        return True\n",
    "    else:\n",
    "        return False\n",
    "\n",
    "\n",
    "t = turtle.Turtle()\n",
    "wn = turtle.Screen()\n",
    "\n",
    "t.shape('turtle')\n",
    "while isInScreen(wn, t):\n",
    "    coin = random.randrange(0, 2)\n",
    "    if coin == 0:              # heads\n",
    "        t.left(90)\n",
    "    else:                      # tails\n",
    "        t.right(90)\n",
    "\n",
    "    t.forward(50)\n",
    "\n",
    "wn.exitonclick()"
   ]
  },
  {
   "cell_type": "code",
   "execution_count": null,
   "id": "5145bcda",
   "metadata": {},
   "outputs": [],
   "source": []
  },
  {
   "cell_type": "code",
   "execution_count": null,
   "id": "83eadca0",
   "metadata": {},
   "outputs": [],
   "source": []
  }
 ],
 "metadata": {
  "kernelspec": {
   "display_name": "Python 3 (ipykernel)",
   "language": "python",
   "name": "python3"
  },
  "language_info": {
   "codemirror_mode": {
    "name": "ipython",
    "version": 3
   },
   "file_extension": ".py",
   "mimetype": "text/x-python",
   "name": "python",
   "nbconvert_exporter": "python",
   "pygments_lexer": "ipython3",
   "version": "3.13.0"
  }
 },
 "nbformat": 4,
 "nbformat_minor": 5
}
