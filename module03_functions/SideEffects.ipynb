{
 "cells": [
  {
   "cell_type": "markdown",
   "id": "752b88d1-c401-49a3-bfa8-dcd86d2c6262",
   "metadata": {},
   "source": [
    "# Side Effects"
   ]
  },
  {
   "cell_type": "markdown",
   "id": "5cacee02-8e73-408a-94d2-79b2e810d7e1",
   "metadata": {},
   "source": [
    "## What are side effects"
   ]
  },
  {
   "cell_type": "markdown",
   "id": "06e2f840-6d10-41e5-a6e5-1dac3841282d",
   "metadata": {},
   "source": [
    "**In general, any lasting effect that occurs in a function, not through its return value, is called a side effect. There are three ways to have side effects:**\n",
    "\n",
    " *  Printing out a value. This doesn’t change any objects or variable bindings, but it does have a potential lasting effect outside the function execution, because a person might see the output and be influenced by it.\n",
    "\n",
    "* Changing the value of a mutable object.\n",
    "\n",
    "* Changing the binding of a global variable"
   ]
  },
  {
   "cell_type": "markdown",
   "id": "0ea52758-d902-43b3-a0c1-3bf2985f36de",
   "metadata": {},
   "source": [
    "> You can use the same coding pattern to avoid confusing side effects with sharing of mutable objects. \n",
    "To do that, explicitly make a copy of an object and pass the copy in to the function. \n",
    "Then return the modified copy and reassign it to the original variable if you want to save the changes. \n",
    "The built-in list function, which takes a sequence as a parameter and returns a new list,\n",
    "works to copy an existing list. For dictionaries, you can similarly call the dict function,\n",
    "passing in a dictionary to get a copy of the dictionary back as a return value."
   ]
  },
  {
   "cell_type": "code",
   "execution_count": 2,
   "id": "5fa9a647-8bd9-44d2-9541-af16eb6ea02d",
   "metadata": {},
   "outputs": [
    {
     "name": "stdout",
     "output_type": "stream",
     "text": [
      "True\n",
      "False\n"
     ]
    }
   ],
   "source": [
    "# Make Copies?\n",
    "baseball = ['Ball', 'Mitt', 'Base', 'Home plate', 'Stands', 'Crowd']\n",
    "new_baseball = list(baseball)\n",
    "print(new_baseball == baseball)\n",
    "print(new_baseball is baseball)"
   ]
  },
  {
   "cell_type": "code",
   "execution_count": 5,
   "id": "f162ee2c-d633-494d-b765-6519d89535e8",
   "metadata": {},
   "outputs": [
    {
     "name": "stdout",
     "output_type": "stream",
     "text": [
      "['106', 'students', 'are', 'awesome']\n",
      "['Michigan', 'Wolverines', 'are', 'awesome']\n"
     ]
    }
   ],
   "source": [
    "def changeit(lst):\n",
    "    lst[0] = \"Michigan\"\n",
    "    lst[1] = \"Wolverines\"\n",
    "    return lst\n",
    "\n",
    "mylst = ['106', 'students', 'are', 'awesome']\n",
    "newlist = changeit(list(mylst))\n",
    "print(mylst)\n",
    "print(newlist)"
   ]
  }
 ],
 "metadata": {
  "kernelspec": {
   "display_name": "Python 3 (ipykernel)",
   "language": "python",
   "name": "python3"
  },
  "language_info": {
   "codemirror_mode": {
    "name": "ipython",
    "version": 3
   },
   "file_extension": ".py",
   "mimetype": "text/x-python",
   "name": "python",
   "nbconvert_exporter": "python",
   "pygments_lexer": "ipython3",
   "version": "3.12.4"
  }
 },
 "nbformat": 4,
 "nbformat_minor": 5
}
