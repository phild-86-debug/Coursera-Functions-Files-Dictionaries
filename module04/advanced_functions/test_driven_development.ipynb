{
 "cells": [
  {
   "cell_type": "markdown",
   "id": "f2eb70cc-a2a2-456d-b9c1-7d83d270ff52",
   "metadata": {},
   "source": [
    "# Test Driven Development"
   ]
  },
  {
   "cell_type": "code",
   "execution_count": null,
   "id": "25512b7c-19ca-4878-86e8-17657c6eb24e",
   "metadata": {},
   "outputs": [],
   "source": [
    "# We know that the function is syntatically correct at this point. \n",
    "def distance(x1, y1, x2, y2):\n",
    "    return 0\n",
    "\n",
    "assert distance(1,2, 1,2) == 0\n",
    "assert distance(1,2, 4,6) == 5\n",
    "assert distance(0,0, 1,1) == 2**0.5\n",
    "assert distance(0, -5, 0, 7) == 12\n",
    "assert distance(-7, 0, -1, -1) == 37 ** .5"
   ]
  },
  {
   "cell_type": "code",
   "execution_count": 5,
   "id": "3180bae4-e7f1-4707-a10b-47b467bce2c8",
   "metadata": {},
   "outputs": [],
   "source": [
    "# compute the x distance and the y distance\n",
    "def distance (x1, y1, x2, y2):\n",
    "    dx = x2 - x1\n",
    "    dy = y2 - y1\n",
    "    return 0.0\n",
    "\n"
   ]
  },
  {
   "cell_type": "code",
   "execution_count": 10,
   "id": "f8c03fec-da6a-4abf-bdc5-5c0af7041764",
   "metadata": {},
   "outputs": [],
   "source": [
    "# Next we compute the sum of squares of dx and dy\n",
    "def distance (x1, y1, x2, y2):\n",
    "    dx = x2 - x1\n",
    "    dy = y2 - y1\n",
    "    dsquared = dx ** 2 + dy ** 2\n",
    "    assert dsquared == 25\n",
    "\n",
    "    \n",
    "    return 0.0\n",
    "\n"
   ]
  },
  {
   "cell_type": "code",
   "execution_count": 13,
   "id": "c0fa2e20-b18b-4377-809d-ad97c50ec5e3",
   "metadata": {},
   "outputs": [],
   "source": [
    "# Finally, using the fractinal exponent of 0.5 to find the square root, we compute and return the result.\n",
    "def distance(x1, y1, x2, y2):\n",
    "    dx = x2 - x1\n",
    "    dy = y2 - y1\n",
    "    dsquared = dx**2 + dy**2\n",
    "    result = dsquared**0.5\n",
    "    return result\n",
    "\n",
    "assert distance(1,2, 1,2) == 0\n",
    "assert distance(1,2, 4,6) == 5\n",
    "assert distance(0,0, 1,1) == 2**0.5\n",
    "assert distance(0, -5, 0, 7) == 12\n",
    "assert distance(-7, 0, -1, -1) == 37 ** .5\n"
   ]
  }
 ],
 "metadata": {
  "kernelspec": {
   "display_name": "Python 3 (ipykernel)",
   "language": "python",
   "name": "python3"
  },
  "language_info": {
   "codemirror_mode": {
    "name": "ipython",
    "version": 3
   },
   "file_extension": ".py",
   "mimetype": "text/x-python",
   "name": "python",
   "nbconvert_exporter": "python",
   "pygments_lexer": "ipython3",
   "version": "3.12.4"
  }
 },
 "nbformat": 4,
 "nbformat_minor": 5
}
