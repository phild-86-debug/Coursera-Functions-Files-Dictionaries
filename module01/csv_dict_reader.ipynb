{
 "cells": [
  {
   "cell_type": "markdown",
   "id": "b0fbb98e-7792-4d15-a051-b3dba007ea0b",
   "metadata": {},
   "source": [
    "# CSV Dict Reader"
   ]
  },
  {
   "cell_type": "markdown",
   "id": "6d0f75e7-7462-4688-ae56-6c0378e31602",
   "metadata": {},
   "source": [
    "## CSV Standard Reader"
   ]
  },
  {
   "cell_type": "code",
   "execution_count": 11,
   "id": "c2886483-0db5-4235-af51-a2d35d6e7b25",
   "metadata": {},
   "outputs": [],
   "source": [
    "import csv"
   ]
  },
  {
   "cell_type": "raw",
   "id": "74d0b45a-6d9d-4b2b-9a1d-50cd72711d28",
   "metadata": {},
   "source": [
    "with open(\"olympics.csv\", 'r') as f:\n",
    "    reader = csv.reader(f)\n",
    "    for row in reader:\n",
    "        if row[5] != \"NA\":\n",
    "            print(f\"{row[0]}: {row[4]}; {row[5]}\")"
   ]
  },
  {
   "cell_type": "markdown",
   "id": "c74ac513-e9a5-4024-a221-252f68ef4062",
   "metadata": {},
   "source": [
    "## CSV Dict Reader"
   ]
  },
  {
   "cell_type": "code",
   "execution_count": 8,
   "id": "9e3a3a74-05d9-42f8-849a-1bd468cc9c36",
   "metadata": {},
   "outputs": [
    {
     "name": "stdout",
     "output_type": "stream",
     "text": [
      "['Name', 'Sex', 'Age', 'Team', 'Event', 'Medal']\n",
      "{'Name': 'A Dijiang', 'Sex': 'M', 'Age': '24', 'Team': 'China', 'Event': 'Basketball', 'Medal': 'NA'}\n",
      "Type of reader:  <class 'csv.DictReader'>\n",
      "{'Name': 'A Lamusi', 'Sex': 'M', 'Age': '23', 'Team': 'China', 'Event': 'Judo', 'Medal': 'NA'}\n"
     ]
    }
   ],
   "source": [
    "import csv\n",
    "with open('olympics.csv', 'r') as f:\n",
    "    reader = csv.DictReader(f)\n",
    "    print(reader.fieldnames)\n",
    "    # show  first two rows\n",
    "    print(next(reader))\n",
    "    print(\"Type of reader: \", type(reader))\n",
    "    print(next(reader))\n",
    "\n"
   ]
  },
  {
   "cell_type": "code",
   "execution_count": 13,
   "id": "e7d52e1a-aac2-4400-9aef-7edf3aa7a23a",
   "metadata": {},
   "outputs": [
    {
     "name": "stdout",
     "output_type": "stream",
     "text": [
      "Edgar Lindenau Aabye: Tug-Of-War; Gold\n",
      "Arvo Ossian Aaltonen: Swimming; Bronze\n",
      "Arvo Ossian Aaltonen: Swimming; Bronze\n",
      "Juhamatti Tapio Aaltonen: Ice Hockey; Bronze\n",
      "Paavo Johannes Aaltonen: Gymnastics; Bronze\n",
      "Paavo Johannes Aaltonen: Gymnastics; Gold\n",
      "Paavo Johannes Aaltonen: Gymnastics; Gold\n",
      "Paavo Johannes Aaltonen: Gymnastics; Gold\n",
      "Paavo Johannes Aaltonen: Gymnastics; Bronze\n"
     ]
    }
   ],
   "source": [
    "import csv\n",
    "with open('olympics.csv', 'r') as f:\n",
    "    reader = csv.DictReader(f)\n",
    "    for row in reader: # iterate through the remaining rows\n",
    "        if row['Medal'] != 'NA':\n",
    "            print(f\"{row['Name']}: {row['Event']}; {row['Medal']}\")\n",
    "        \n"
   ]
  },
  {
   "cell_type": "markdown",
   "id": "3702fb33-59a2-4fbf-b99b-0bb5de7b26c7",
   "metadata": {},
   "source": [
    "## Writing a csv file"
   ]
  },
  {
   "attachments": {},
   "cell_type": "markdown",
   "id": "3a510be1-3ff9-41e2-95f2-d4ee56020f07",
   "metadata": {},
   "source": [
    "https://www.coursera.org/learn/python-functions-files-dictionaries/lecture/FUX7p/csv-module-with-dictionaries\n",
    "\n",
    "\n",
    "\n"
   ]
  },
  {
   "cell_type": "code",
   "execution_count": null,
   "id": "102173a6-3e30-4aa5-9a02-5790a225d732",
   "metadata": {},
   "outputs": [],
   "source": []
  }
 ],
 "metadata": {
  "kernelspec": {
   "display_name": "Python 3 (ipykernel)",
   "language": "python",
   "name": "python3"
  },
  "language_info": {
   "codemirror_mode": {
    "name": "ipython",
    "version": 3
   },
   "file_extension": ".py",
   "mimetype": "text/x-python",
   "name": "python",
   "nbconvert_exporter": "python",
   "pygments_lexer": "ipython3",
   "version": "3.12.4"
  }
 },
 "nbformat": 4,
 "nbformat_minor": 5
}
