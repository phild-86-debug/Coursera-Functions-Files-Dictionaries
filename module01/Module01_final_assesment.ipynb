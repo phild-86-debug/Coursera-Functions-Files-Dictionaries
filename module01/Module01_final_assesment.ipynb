{
 "cells": [
  {
   "cell_type": "markdown",
   "id": "8124bb79-eb60-4d6b-96a6-9f6e5315bc3b",
   "metadata": {},
   "source": [
    "# Module 01 Final Assesment"
   ]
  },
  {
   "cell_type": "markdown",
   "id": "61450a25-8002-4488-ae65-92ccdc9810fa",
   "metadata": {},
   "source": [
    "### Task cell 8:\n",
    "We have provided a file called assets/emotion_words.txt that contains lines of words that describe emotions. Find the total number of words in the file and assign this value to the variable num_words.\n"
   ]
  },
  {
   "cell_type": "code",
   "execution_count": 3,
   "id": "5f2c04ef-6144-4aa8-a908-ee60ea6dcd8f",
   "metadata": {},
   "outputs": [
    {
     "name": "stdout",
     "output_type": "stream",
     "text": [
      "['Sad upset blue down melancholy somber bitter troubled\\n', 'Angry mad enraged irate irritable wrathful outraged infuriated\\n', 'Happy cheerful content elated joyous delighted lively glad\\n', 'Confused disoriented puzzled perplexed dazed befuddled\\n', 'Excited eager thrilled delighted\\n', 'Scared afraid fearful panicked terrified petrified startled\\n', 'Nervous anxious jittery jumpy tense uneasy apprehensive\\n']\n",
      "48\n",
      "48\n"
     ]
    }
   ],
   "source": [
    "num_words =  None\n",
    "# Your code here\n",
    "fname = 'emotion_words.txt'\n",
    "word_count = 0\n",
    "with open(fname, 'r') as f:\n",
    "\n",
    "    lines = f.readlines()\n",
    "    print(lines)\n",
    "    for lin in lines:\n",
    "        values = lin.split()\n",
    "        word_count += len(values)\n",
    "    print(word_count)\n",
    "    num_words = word_count\n",
    "    print(word_count)\n",
    "\n",
    "\n",
    "assert num_words == 48, 'num_words is not assigned the correct value'\n",
    "\n",
    "\n",
    "        \n",
    "    \n"
   ]
  },
  {
   "cell_type": "code",
   "execution_count": 4,
   "id": "47e1af61-4430-402c-9495-96234302c3f3",
   "metadata": {},
   "outputs": [
    {
     "name": "stdout",
     "output_type": "stream",
     "text": [
      "10\n"
     ]
    }
   ],
   "source": [
    "# Assign to the variable num_lines the number of lines in the file assets/school_prompt.txt.\n",
    "\n",
    "num_lines = None\n",
    "\n",
    "# Your Code Here:\n",
    "\n",
    "fname = 'school_prompt.txt'\n",
    "with open(fname, 'r') as f:\n",
    "    lines = f.readlines()\n",
    "    num_lines = len(lines)\n",
    "print(num_lines)\n",
    "    "
   ]
  },
  {
   "cell_type": "code",
   "execution_count": 5,
   "id": "c0ca24f1-55b2-44a8-ae0b-c2e4177cc9c3",
   "metadata": {},
   "outputs": [
    {
     "name": "stdout",
     "output_type": "stream",
     "text": [
      "Writing essays for school can \n"
     ]
    }
   ],
   "source": [
    "# Assign the first 30 characters of assets/school_prompt.txt as a string to the variable beginning_chars.\n",
    "\n",
    "beginning_chars = \"\"\n",
    "fname = 'school_prompt.txt'\n",
    "with open(fname, 'r') as f:\n",
    "    chars = f.read()\n",
    "    for num in range(30):\n",
    "        beginning_chars = beginning_chars + chars[num]\n",
    "print(beginning_chars)\n",
    "        \n",
    "    \n",
    "\n"
   ]
  },
  {
   "cell_type": "code",
   "execution_count": 6,
   "id": "8a1d44d9-b10b-4a48-ba51-00a901577819",
   "metadata": {},
   "outputs": [],
   "source": [
    "# Assert statements for above : for beginning_chars\n",
    "assert type(beginning_chars) == str, 'beginning_chars is not a string'\n",
    "assert len(beginning_chars) == 30, 'beginning_chars is not assigned the correct length'"
   ]
  },
  {
   "cell_type": "code",
   "execution_count": 7,
   "id": "efc934f6-2b60-42d8-9385-7d5161c6b64d",
   "metadata": {},
   "outputs": [
    {
     "name": "stdout",
     "output_type": "stream",
     "text": [
      "Type of lines is:  <class 'list'>\n",
      "['for', 'find', 'to', 'many', 'they', 'solid', 'for', 'have', 'some', 'ups,']\n"
     ]
    }
   ],
   "source": [
    "# Challenge: Using the file assets/school_prompt.txt, assign the third word of every line to a list called three.\n",
    "three = None\n",
    "\n",
    "# Your Code Here\n",
    "fname = 'school_prompt.txt'\n",
    "my_three = []\n",
    "with open(fname, 'r') as f:\n",
    "    lines = f.readlines()\n",
    "    print(\"Type of lines is: \", type(lines))\n",
    "    for lin in lines:\n",
    "        my_three.append(lin.split()[2])\n",
    "        #my_three.append(lin[2])\n",
    "three = my_three\n",
    "print(three)\n",
    "\n"
   ]
  },
  {
   "cell_type": "code",
   "execution_count": 8,
   "id": "92321ad4-cb24-4bc6-934e-ed22c9b329e6",
   "metadata": {},
   "outputs": [],
   "source": [
    "# Assert statments for above\n",
    "assert type(three) == list, 'three is not a list'\n",
    "assert len(three) == 10, 'three is not assigned the correct length'"
   ]
  },
  {
   "cell_type": "code",
   "execution_count": 10,
   "id": "e5430fe3-c370-48f8-a87b-808d670e31f0",
   "metadata": {},
   "outputs": [],
   "source": [
    "# Assert to check if three does indeed contain the  third word of every line\n",
    "start = 0\n",
    "for lin in lines:\n",
    "    assert lin.split()[2] == three[start]\n",
    "    start += 1"
   ]
  },
  {
   "cell_type": "code",
   "execution_count": 13,
   "id": "b11fc377-763b-4446-a17e-7ea26ae8662c",
   "metadata": {},
   "outputs": [
    {
     "name": "stdout",
     "output_type": "stream",
     "text": [
      "['Sad', 'Angry', 'Happy', 'Confused', 'Excited', 'Scared', 'Nervous']\n"
     ]
    }
   ],
   "source": [
    "# \n",
    "emotions = None\n",
    "# Your code here\n",
    "fname = 'emotion_words.txt'\n",
    "my_emotions  = []\n",
    "with open(fname, 'r') as f:\n",
    "    lines = f.readlines()\n",
    "    for lin in lines:\n",
    "        my_emotions.append(lin.split()[0])\n",
    "emotions = my_emotions\n",
    "print(emotions)\n",
    "\n",
    "\n",
    "\n"
   ]
  },
  {
   "cell_type": "code",
   "execution_count": 19,
   "id": "99e7bcea-1f1b-4289-abb7-2b710c751f97",
   "metadata": {},
   "outputs": [],
   "source": [
    "# Assert statement for cell #13\n",
    "assert type(emotions) == list, 'emotions is not a list'\n",
    "assert len(emotions) == 7, 'emotions is not assigned the correct length'\n",
    "start = 0\n",
    "for lin in lines:\n",
    "    assert lin.split()[0] == emotions[start]\n",
    "    start += 1\n",
    "\n"
   ]
  },
  {
   "cell_type": "code",
   "execution_count": 26,
   "id": "5b845959-eb3c-4e7c-af2f-0e18b30396a3",
   "metadata": {},
   "outputs": [
    {
     "name": "stdout",
     "output_type": "stream",
     "text": [
      "This summer I will be travelling.\n"
     ]
    }
   ],
   "source": [
    "# Challenge: Using the file assets/school_prompt.txt, if the character ‘p’ is in a word, then add the word to a list called p_words.\n",
    "first_chars = None\n",
    "# Your code here\n",
    "chr_string = \"\"\n",
    "fname = 'travel_plans.txt'\n",
    "with open(fname, 'r') as f:\n",
    "    lines = f.read()\n",
    "\n",
    "    for num in range(33):\n",
    "        chr_string = chr_string + lines[num]\n",
    "first_chars = chr_string\n",
    "print(first_chars)\n",
    "        \n",
    "\n",
    "assert type(first_chars) == str, 'first_chars is not a string'\n",
    "assert len(first_chars) == 33, 'first_chars is not assigned the correct length'\n",
    "\n"
   ]
  },
  {
   "cell_type": "code",
   "execution_count": 41,
   "id": "b1fdcf5f-fc9a-4288-8574-e3aecfd90bda",
   "metadata": {},
   "outputs": [
    {
     "name": "stdout",
     "output_type": "stream",
     "text": [
      "['topic', 'point', 'papers,', 'ups,', 'scripts.']\n"
     ]
    }
   ],
   "source": [
    "# Challenge: Using the file assets/school_prompt.txt, if the character ‘p’ is in a word, then add the word to a list called p_words.\n",
    "fname = 'school_prompt.txt'\n",
    "p_words = []\n",
    "with open(fname, 'r') as f:\n",
    "    lines = f.read()\n",
    "\n",
    "    for word in lines.strip().split():\n",
    "        if 'p' in word:\n",
    "            p_words.append(word)\n",
    "print(p_words)\n",
    "    \n",
    "        \n",
    "    \n",
    "    \n"
   ]
  },
  {
   "cell_type": "code",
   "execution_count": 43,
   "id": "77280148-e4b3-4d8e-a927-f5390ad7051b",
   "metadata": {},
   "outputs": [],
   "source": [
    "# assertions for cell 41\n",
    "assert type(p_words) == list, 'p_words is not a list'\n",
    "assert len(p_words) == 5, 'p_words is not assigned the correct length'"
   ]
  },
  {
   "cell_type": "code",
   "execution_count": 47,
   "id": "78aa42fa-e3c2-4179-84f7-67df69fdc995",
   "metadata": {},
   "outputs": [
    {
     "name": "stdout",
     "output_type": "stream",
     "text": [
      "['Writing', 'essays', 'for', 'school', 'can', 'be', 'difficult', 'but', 'many', 'students', 'find', 'that', 'by', 'researching', 'their', 'topic', 'that', 'they', 'have', 'more', 'to', 'say', 'and', 'are', 'better', 'informed.', 'Here', 'are', 'the', 'university', 'we', 'require', 'many', 'undergraduate', 'students', 'to', 'take', 'a', 'first', 'year', 'writing', 'requirement', 'so', 'that', 'they', 'can', 'have', 'a', 'solid', 'foundation', 'for', 'their', 'writing', 'skills.', 'This', 'comes', 'in', 'handy', 'for', 'many', 'students.', 'Different', 'schools', 'have', 'different', 'requirements,', 'but', 'everyone', 'uses', 'writing', 'at', 'some', 'point', 'in', 'their', 'academic', 'career,', 'be', 'it', 'essays,', 'research', 'papers,', 'technical', 'write', 'ups,', 'or', 'scripts.']\n",
      "topic\n",
      "point\n",
      "papers,\n",
      "ups,\n",
      "scripts.\n",
      "count:  5\n"
     ]
    }
   ],
   "source": [
    "\n",
    "s = '''\n",
    "Writing essays for school can be difficult but\n",
    "many students find that by researching their topic that they\n",
    "have more to say and are better informed. Here are the university\n",
    "we require many undergraduate students to take a first year writing requirement\n",
    "so that they can\n",
    "have a solid foundation for their writing skills. This comes\n",
    "in handy for many students.\n",
    "Different schools have different requirements, but everyone uses\n",
    "writing at some point in their academic career, be it essays, research papers,\n",
    "technical write ups, or scripts.\n",
    "'''\n",
    "\n",
    "split_s = s.split()\n",
    "print(split_s)\n",
    "count = 0\n",
    "for word in split_s:\n",
    "    if 'p' in word:\n",
    "        count += 1\n",
    "        print(word)\n",
    "\n",
    "print(\"count: \", count)"
   ]
  }
 ],
 "metadata": {
  "kernelspec": {
   "display_name": "Python 3 (ipykernel)",
   "language": "python",
   "name": "python3"
  },
  "language_info": {
   "codemirror_mode": {
    "name": "ipython",
    "version": 3
   },
   "file_extension": ".py",
   "mimetype": "text/x-python",
   "name": "python",
   "nbconvert_exporter": "python",
   "pygments_lexer": "ipython3",
   "version": "3.12.4"
  }
 },
 "nbformat": 4,
 "nbformat_minor": 5
}
