{
 "cells": [
  {
   "cell_type": "markdown",
   "id": "ec8fa7bf-6d1f-4965-8c38-cb1ba7f7b3cc",
   "metadata": {},
   "source": [
    "# accumulating_best_key"
   ]
  },
  {
   "cell_type": "code",
   "execution_count": 2,
   "id": "53e69eb0-0dd9-4e4c-8d6d-922a36ce7f7b",
   "metadata": {},
   "outputs": [
    {
     "name": "stdout",
     "output_type": "stream",
     "text": [
      "key e has the highest value, 312\n"
     ]
    }
   ],
   "source": [
    "d = {'a': 194, 'b': 54, 'c':34, 'd': 44, 'e': 312, 'full':31}\n",
    "\n",
    "ks = d.keys()\n",
    "# initialize variable best_key_so_far to be the first key in d\n",
    "highest = d['a']\n",
    "for k in ks:\n",
    "    # print(k)\n",
    "    # check if the value associated with the current key is\n",
    "    # bigger than the value associated with the best_key_so_far\n",
    "    # if so, save the current key as the best so far\n",
    "   if d[k] > highest:\n",
    "        best_key_so_far = k\n",
    "   \n",
    "\n",
    "print(\"key \" + str(best_key_so_far) + \" has the highest value, \" + str(d[best_key_so_far]))\n"
   ]
  },
  {
   "cell_type": "code",
   "execution_count": 8,
   "id": "cc25ebd2-3bf9-43ab-9be0-2d4d699b1b13",
   "metadata": {},
   "outputs": [
    {
     "name": "stdout",
     "output_type": "stream",
     "text": [
      "x\n"
     ]
    }
   ],
   "source": [
    "# 1. Create a dictionary called d that keeps track of all the characters in the string placement and notes how many times each character was seen.\n",
    "# Then, find the key with the lowest value in this dictionary and assign that key to key_with_min_value.\n",
    "placement = \"Beaches are cool places to visit in spring however the Mackinaw Bridge is near. Most people visit Mackinaw later since the island is a cool place to explore.\"\n",
    "\n",
    "d = {}\n",
    "for char in placement:\n",
    "    if char not in d:\n",
    "        d[char] = 1\n",
    "    else:\n",
    "        d[char] += 1\n",
    "ks = d.keys()\n",
    "lowest = d['B']\n",
    "for k in ks:\n",
    "    if d[k] < lowest:\n",
    "        lowest = d[k]\n",
    "        key_with_min_value = k\n",
    "\n",
    "print(key_with_min_value)\n"
   ]
  },
  {
   "cell_type": "code",
   "execution_count": 15,
   "id": "f3ac6b9e-1e89-4d9b-b53e-a3658ea54f48",
   "metadata": {},
   "outputs": [
    {
     "name": "stdout",
     "output_type": "stream",
     "text": [
      "{'i': 2, 'p': 2, 'h': 2, 'o': 3, 'n': 4, 'e': 2, ' ': 3, 'a': 2, 'd': 3, 'r': 1, 's': 1}\n",
      "n\n"
     ]
    }
   ],
   "source": [
    "# 5. Create a dictionary called lett_d that keeps track of all of the characters in the string product\n",
    "# and notes how many times each character was seen. Then,\n",
    "# find the key with the highest value in this dictionary and assign that key to key_with_max_value.\n",
    "\n",
    "product = \"iphone and android phones\"\n",
    "lett_d = {}\n",
    "for char in product:\n",
    "    lett_d[char] = lett_d.get(char, 0) + 1\n",
    "high = lett_d['i']\n",
    "for key in lett_d:\n",
    "    if lett_d[key] > high:\n",
    "        high = lett_d[key]\n",
    "        key_with_max_value = key\n",
    "        \n",
    "print(lett_d)\n",
    "print(key_with_max_value)\n",
    "    \n",
    "\n",
    "\n"
   ]
  },
  {
   "cell_type": "code",
   "execution_count": 20,
   "id": "3b47327d-947c-42c8-ba6a-615e68fbabe3",
   "metadata": {},
   "outputs": [
    {
     "name": "stdout",
     "output_type": "stream",
     "text": [
      "n\n"
     ]
    }
   ],
   "source": [
    "product =  \"iphone and android phones\"\n",
    "lett_d = {}\n",
    "for char in product:\n",
    "    lett_d[char] = lett_d.get(char,0) + 1\n",
    "keys = list(lett_d.keys())\n",
    "key_with_max_value = keys[0]\n",
    "high = lett_d[keys[0]]\n",
    "\n",
    "for key in lett_d:\n",
    "    if lett_d[key] > high:\n",
    "        high = lett_d[key]\n",
    "        key_with_max_value = key\n",
    "\n",
    "print(key_with_max_value)\n",
    "        "
   ]
  }
 ],
 "metadata": {
  "kernelspec": {
   "display_name": "Python 3 (ipykernel)",
   "language": "python",
   "name": "python3"
  },
  "language_info": {
   "codemirror_mode": {
    "name": "ipython",
    "version": 3
   },
   "file_extension": ".py",
   "mimetype": "text/x-python",
   "name": "python",
   "nbconvert_exporter": "python",
   "pygments_lexer": "ipython3",
   "version": "3.12.4"
  }
 },
 "nbformat": 4,
 "nbformat_minor": 5
}
