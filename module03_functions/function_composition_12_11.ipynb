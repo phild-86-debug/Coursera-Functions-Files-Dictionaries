{
 "cells": [
  {
   "cell_type": "markdown",
   "id": "7a996112-c41d-4845-a154-844edc436bd8",
   "metadata": {},
   "source": [
    "# Function Composition"
   ]
  },
  {
   "cell_type": "code",
   "execution_count": 2,
   "id": "3ced98fc-0c06-4e32-8639-6802752b0a6c",
   "metadata": {},
   "outputs": [
    {
     "name": "stdout",
     "output_type": "stream",
     "text": [
      "b\n"
     ]
    }
   ],
   "source": [
    "def most_common_letter(s):\n",
    "    frequencies = count_freqs(s)\n",
    "    return best_key(frequencies)\n",
    "\n",
    "def count_freqs(st):\n",
    "    d = {}\n",
    "    for c in st:\n",
    "        if c not in d:\n",
    "             d[c] = 0\n",
    "        d[c] = d[c] + 1\n",
    "    return d\n",
    "\n",
    "def best_key(dictionary):\n",
    "    ks = dictionary.keys()\n",
    "    best_key_so_far = list(ks)[0]  # Have to turn ks into a real list before using [] to select an item\n",
    "    for k in ks:\n",
    "        if dictionary[k] > dictionary[best_key_so_far]:\n",
    "            best_key_so_far = k\n",
    "    return best_key_so_far\n",
    "\n",
    "print(most_common_letter(\"abbbbbbbbbbbccccddddd\"))"
   ]
  },
  {
   "cell_type": "code",
   "execution_count": 13,
   "id": "5baf5410-b88c-4cf4-b1c3-cd534ecdbbdb",
   "metadata": {},
   "outputs": [
    {
     "name": "stdout",
     "output_type": "stream",
     "text": [
      "seventeen\n"
     ]
    }
   ],
   "source": [
    "def best_key(dictionary):\n",
    "    keys = dictionary.keys()\n",
    "    best_key = list(keys)[0]\n",
    "    for key in keys:\n",
    "        if dictionary[key] > dictionary[best_key]:\n",
    "            best_key = key\n",
    "    return best_key\n",
    "my_dict = {'one':1, 'seventeen':17, 'eight':8, 'two':2}\n",
    "print(best_key(my_dict))\n",
    "\n"
   ]
  },
  {
   "cell_type": "code",
   "execution_count": 18,
   "id": "f3702b5a-74c4-499c-bb55-18a32caa0ee4",
   "metadata": {},
   "outputs": [
    {
     "name": "stdin",
     "output_type": "stream",
     "text": [
      "Enter a number:  5\n"
     ]
    },
    {
     "name": "stdout",
     "output_type": "stream",
     "text": [
      "50.0\n"
     ]
    }
   ],
   "source": [
    "# Two functions.  mult, addit\n",
    "def addit(x):\n",
    "    ''' Takes one number as input and adds 5 '''\n",
    "    return x + 5\n",
    "def mult(x):\n",
    "    '''input: one number\n",
    "       output: input * return value of addit'''\n",
    "    return x * addit(x)\n",
    "input_var = float(input(\"Enter a number: \"))\n",
    "print(mult(input_var))\n"
   ]
  }
 ],
 "metadata": {
  "kernelspec": {
   "display_name": "Python 3 (ipykernel)",
   "language": "python",
   "name": "python3"
  },
  "language_info": {
   "codemirror_mode": {
    "name": "ipython",
    "version": 3
   },
   "file_extension": ".py",
   "mimetype": "text/x-python",
   "name": "python",
   "nbconvert_exporter": "python",
   "pygments_lexer": "ipython3",
   "version": "3.13.0"
  }
 },
 "nbformat": 4,
 "nbformat_minor": 5
}
