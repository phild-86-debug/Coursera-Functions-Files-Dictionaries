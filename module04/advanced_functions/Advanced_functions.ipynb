{
 "cells": [
  {
   "cell_type": "markdown",
   "id": "c3f97589-c440-4672-940e-962aad618946",
   "metadata": {},
   "source": [
    "# Advanced Functions"
   ]
  },
  {
   "cell_type": "markdown",
   "id": "8d7fbe1e-2b91-45aa-b19b-2f702ed28429",
   "metadata": {},
   "source": [
    "## 15.1 Introduction Optional Parameters\n"
   ]
  },
  {
   "cell_type": "code",
   "execution_count": 6,
   "id": "93df4606-eea9-4ed8-b1fd-3ad8fd93b180",
   "metadata": {},
   "outputs": [
    {
     "name": "stdout",
     "output_type": "stream",
     "text": [
      "x, y, z, are: 10, 12, 7\n",
      "None\n"
     ]
    }
   ],
   "source": [
    "def f(x, y, z = 7):\n",
    "    print(\"x, y, z, are: \" + str(x) + \", \" + str(y) + \", \" + str(z))\n",
    "\n",
    "print(f(10, 12))"
   ]
  },
  {
   "cell_type": "code",
   "execution_count": 11,
   "id": "aee206bb-00bb-4a80-8d07-cc1536ebfe1f",
   "metadata": {},
   "outputs": [
    {
     "name": "stdout",
     "output_type": "stream",
     "text": [
      "x:  17 y:  3 z:  7\n"
     ]
    }
   ],
   "source": [
    "initial = 7\n",
    "def f (x, y = 3, z = initial):\n",
    "    print(\"x: \", x, \"y: \", y, \"z: \", z)\n",
    "f(17)"
   ]
  },
  {
   "cell_type": "code",
   "execution_count": 13,
   "id": "af499fb6-27d5-4862-9793-97a7d11b1c7c",
   "metadata": {},
   "outputs": [
    {
     "name": "stdout",
     "output_type": "stream",
     "text": [
      "x:  17 y:  3 z:  7\n"
     ]
    }
   ],
   "source": [
    "initial = 7\n",
    "def f (x, y = 3, z = initial):\n",
    "    print(\"x: \", x, \"y: \", y, \"z: \", z)\n",
    "initial = 10\n",
    "f(17)"
   ]
  },
  {
   "cell_type": "markdown",
   "id": "ba15e143-4e6c-4f6c-b651-b7610e6a40a6",
   "metadata": {},
   "source": [
    "## Mutation  and Optional Parameters"
   ]
  },
  {
   "cell_type": "code",
   "execution_count": 27,
   "id": "49a86f08-5a54-421c-b749-9065ec963e13",
   "metadata": {},
   "outputs": [
    {
     "name": "stdout",
     "output_type": "stream",
     "text": [
      "[1]\n",
      "[1, 2]\n",
      "[1, 2, 3]\n",
      "['Hello', 4]\n",
      "[1, 2, 3, 5]\n"
     ]
    }
   ],
   "source": [
    "def f(a, L=[]):\n",
    "    L.append(a)\n",
    "    return L\n",
    "\t\n",
    "print(f(1))\n",
    "print(f(2))\n",
    "print(f(3))\n",
    "print(f(4, [\"Hello\"]))\n",
    "print(f(5))\n",
    "\n"
   ]
  }
 ],
 "metadata": {
  "kernelspec": {
   "display_name": "Python 3 (ipykernel)",
   "language": "python",
   "name": "python3"
  },
  "language_info": {
   "codemirror_mode": {
    "name": "ipython",
    "version": 3
   },
   "file_extension": ".py",
   "mimetype": "text/x-python",
   "name": "python",
   "nbconvert_exporter": "python",
   "pygments_lexer": "ipython3",
   "version": "3.12.4"
  }
 },
 "nbformat": 4,
 "nbformat_minor": 5
}
