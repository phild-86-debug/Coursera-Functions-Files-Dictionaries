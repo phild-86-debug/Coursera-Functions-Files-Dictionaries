{
 "cells": [
  {
   "cell_type": "markdown",
   "id": "7101d22f-3898-4f11-9d9b-60f46e3e386e",
   "metadata": {},
   "source": [
    "# Using with"
   ]
  },
  {
   "cell_type": "markdown",
   "id": "481d17fc-1478-4022-8982-33c4b5a25dab",
   "metadata": {},
   "source": [
    "### Using with to open text files"
   ]
  },
  {
   "cell_type": "code",
   "execution_count": 4,
   "id": "0fa40843-fd6f-42d0-b364-326e36287bed",
   "metadata": {},
   "outputs": [
    {
     "name": "stdout",
     "output_type": "stream",
     "text": [
      "1 2 3\n",
      "\n",
      "4 5 6\n",
      "\n",
      "\n",
      "\n",
      "\n",
      "\n"
     ]
    }
   ],
   "source": [
    "fname = \"mydata.txt\"\n",
    "with open(fname, 'r') as md:\n",
    "    # md.read()\n",
    "    # md.readlines()\n",
    "    for line in md:\n",
    "        print(line)\n",
    "# python closes the file for us\n",
    "# other code continues"
   ]
  },
  {
   "cell_type": "markdown",
   "id": "a19b30e9-28f2-4fbc-8f47-c19884fbd16d",
   "metadata": {},
   "source": [
    "### Writing with text files"
   ]
  },
  {
   "cell_type": "code",
   "execution_count": 3,
   "id": "0138507f-de95-4156-8e02-bcae9bf3aeab",
   "metadata": {},
   "outputs": [],
   "source": [
    "### Writing file with \"wiith\"\n",
    "fname = \"output.txt\"\n",
    "with open(fname, 'w') as md:\n",
    "    for num in range(10):\n",
    "        md.write(str(num))\n",
    "        md.write('\\n')\n",
    "\n"
   ]
  }
 ],
 "metadata": {
  "kernelspec": {
   "display_name": "Python 3 (ipykernel)",
   "language": "python",
   "name": "python3"
  },
  "language_info": {
   "codemirror_mode": {
    "name": "ipython",
    "version": 3
   },
   "file_extension": ".py",
   "mimetype": "text/x-python",
   "name": "python",
   "nbconvert_exporter": "python",
   "pygments_lexer": "ipython3",
   "version": "3.12.4"
  }
 },
 "nbformat": 4,
 "nbformat_minor": 5
}
