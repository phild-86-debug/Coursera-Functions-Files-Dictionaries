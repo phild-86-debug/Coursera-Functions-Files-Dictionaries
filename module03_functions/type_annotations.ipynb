{
 "cells": [
  {
   "cell_type": "code",
   "execution_count": 5,
   "id": "a29f0e8d-8cdd-401a-a864-c1aaabaf4acb",
   "metadata": {
    "jupyter": {
     "source_hidden": true
    }
   },
   "outputs": [
    {
     "name": "stdout",
     "output_type": "stream",
     "text": [
      "4\n"
     ]
    }
   ],
   "source": [
    "# Example of type annotation\n",
    "def duplicate(msg: str) -> str:\n",
    "    \"\"\"Returns a string containing two copies of `msg`\"\"\"\n",
    "\n",
    "    return msg + msg\n",
    "\n",
    "result = duplicate(2)\n",
    "print(result)\n",
    "\n",
    "# Not sure what the point here is if the function doesn't error if a int is used in the function call. \n"
   ]
  },
  {
   "cell_type": "code",
   "execution_count": null,
   "id": "b4fadde3-12af-41b6-a6f5-ed73b639353c",
   "metadata": {},
   "outputs": [],
   "source": [
    "# more eamples of type annotations\n",
    "def add(x: int, y: int) -> int:\n",
    "    \"\"\"Returns the sum of `x` and `y`\"\"\"\n",
    "\n",
    "    return x + y\n",
    "\n",
    "def get_number(msg: str) -> float:\n",
    "    \"\"\"Prompts with `msg` for input; returns numeric response.\"\"\"\n",
    "\n",
    "    return float(input(msg))\n",
    "\n",
    "def display_msg(msg: str):\n",
    "    \"\"\"Displays `msg` with dashed line underneath\"\"\"\n",
    "\n",
    "    print(msg)\n",
    "    print('-------------------------------------')\n",
    "\n",
    "def add_em_up(nums: list[int]) -> int:\n",
    "        tot = 0\n",
    "        for num in nums:\n",
    "            tot += num\n",
    "        return tot\n",
    "\n",
    "def add_em_up(nums: list[int | float]) -> int | float:\n",
    "    tot = 0\n",
    "    for num in nums:\n",
    "        tot += num\n",
    "    return tot\n",
    "\n",
    "# returns a dictionary\n",
    "def count_words(test:str) -> dict[str, int]:\n",
    "    words = text.split()\n",
    "    d = {}\n",
    "    for word in words:\n",
    "        if word not in d:\n",
    "            d[word] = 1\n",
    "        else:\n",
    "            d[word] += 1\n",
    "    return d\n",
    "\n",
    "print(count_words(\"Hello world hello\"))"
   ]
  },
  {
   "cell_type": "code",
   "execution_count": null,
   "id": "63e5ecee-131a-429c-bdb4-b2fd1b0fff96",
   "metadata": {},
   "outputs": [],
   "source": [
    "print(\"hello\")"
   ]
  }
 ],
 "metadata": {
  "kernelspec": {
   "display_name": "Python 3 (ipykernel)",
   "language": "python",
   "name": "python3"
  },
  "language_info": {
   "codemirror_mode": {
    "name": "ipython",
    "version": 3
   },
   "file_extension": ".py",
   "mimetype": "text/x-python",
   "name": "python",
   "nbconvert_exporter": "python",
   "pygments_lexer": "ipython3",
   "version": "3.13.0"
  }
 },
 "nbformat": 4,
 "nbformat_minor": 5
}
